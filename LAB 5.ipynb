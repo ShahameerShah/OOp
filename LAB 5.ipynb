{
 "cells": [
  {
   "cell_type": "markdown",
   "id": "07d6c8cc",
   "metadata": {},
   "source": [
    "## Classes"
   ]
  },
  {
   "cell_type": "markdown",
   "id": "1b0e62a7",
   "metadata": {},
   "source": [
    "### Lab report Task:"
   ]
  },
  {
   "cell_type": "markdown",
   "id": "ee78488d",
   "metadata": {},
   "source": [
    "####   Define a class circle. Your class must have the appropriate __init__ method.  i. Add appropriate property methods. (@property and @property.setter) ii. In addition, add an instance method for the volume of a cylinder with the given radius. iii. Add property method for area, circumference, and diameter.   iv. Add __repr__ and __str__ to the class.  v. Add proper annotation and doc string to every class and instance method"
   ]
  },
  {
   "cell_type": "code",
   "execution_count": 6,
   "id": "b1826942",
   "metadata": {},
   "outputs": [],
   "source": [
    "import math\n",
    "\n",
    "class Circle:\n",
    "    \"\"\"A class to represent a circle.\"\"\"\n",
    "\n",
    "    def __init__(self, radius: float):\n",
    "        \"\"\"\n",
    "        Initialize the circle with a radius.\n",
    "\n",
    "        Args:\n",
    "            radius (float): The radius of the circle.\n",
    "        \"\"\"\n",
    "        self._radius = radius\n",
    "\n",
    "    @property\n",
    "    def radius(self) -> float:\n",
    "        \"\"\"Get the radius of the circle.\"\"\"\n",
    "        return self._radius\n",
    "\n",
    "    @radius.setter\n",
    "    def radius(self, value: float) -> None:\n",
    "        \"\"\"Set the radius of the circle.\n",
    "\n",
    "        Args:\n",
    "            value (float): The new radius of the circle.\n",
    "        \"\"\"\n",
    "        if value < 0:\n",
    "            raise ValueError(\"Radius cannot be negative.\")\n",
    "        self._radius = value\n",
    "\n",
    "    @property\n",
    "    def diameter(self) -> float:\n",
    "        \"\"\"Calculate and return the diameter of the circle.\"\"\"\n",
    "        return self._radius * 2\n",
    "\n",
    "    @property\n",
    "    def area(self) -> float:\n",
    "        \"\"\"Calculate and return the area of the circle.\"\"\"\n",
    "        return math.pi * (self._radius ** 2)\n",
    "\n",
    "    @property\n",
    "    def circumference(self) -> float:\n",
    "        \"\"\"Calculate and return the circumference of the circle.\"\"\"\n",
    "        return 2 * math.pi * self._radius\n",
    "\n",
    "    def volume_of_cylinder(self, height: float) -> float:\n",
    "        \"\"\"Calculate and return the volume of a cylinder with the circle's radius.\n",
    "\n",
    "        Args:\n",
    "            height (float): The height of the cylinder.\n",
    "\n",
    "        Returns:\n",
    "            float: The volume of the cylinder.\n",
    "        \"\"\"\n",
    "        return self.area * height\n",
    "\n",
    "    def __repr__(self) -> str:\n",
    "        \"\"\"Return an unambiguous string representation of the circle.\"\"\"\n",
    "        return f\"Circle(radius={self._radius})\"\n",
    "\n",
    "    def __str__(self) -> str:\n",
    "        \"\"\"Return a readable string representation of the circle.\"\"\"\n",
    "        return f\"Circle with radius: {self._radius}, diameter: {self.diameter}, area: {self.area:.2f}, circumference: {self.circumference:.2f}\"\n"
   ]
  },
  {
   "cell_type": "markdown",
   "id": "82f23524",
   "metadata": {},
   "source": [
    "#### a. Define inst_1 and pass two numbers. "
   ]
  },
  {
   "cell_type": "code",
   "execution_count": 11,
   "id": "43f93bf0",
   "metadata": {},
   "outputs": [],
   "source": [
    "int_1=Circle(3)\n"
   ]
  },
  {
   "cell_type": "markdown",
   "id": "9bb1cca5",
   "metadata": {},
   "source": [
    "#### b. Make another instance inst2"
   ]
  },
  {
   "cell_type": "code",
   "execution_count": 12,
   "id": "72add00b",
   "metadata": {},
   "outputs": [],
   "source": [
    "int_1=Circle(4)"
   ]
  },
  {
   "cell_type": "code",
   "execution_count": null,
   "id": "b5143994",
   "metadata": {},
   "outputs": [],
   "source": []
  },
  {
   "cell_type": "code",
   "execution_count": 9,
   "id": "d0b38622",
   "metadata": {},
   "outputs": [
    {
     "name": "stdout",
     "output_type": "stream",
     "text": [
      "Circle with radius: 3, diameter: 6, area: 28.27, circumference: 18.85\n"
     ]
    }
   ],
   "source": [
    "print(int_1)"
   ]
  },
  {
   "cell_type": "code",
   "execution_count": null,
   "id": "14ffa473",
   "metadata": {},
   "outputs": [],
   "source": []
  }
 ],
 "metadata": {
  "kernelspec": {
   "display_name": "Python 3 (ipykernel)",
   "language": "python",
   "name": "python3"
  },
  "language_info": {
   "codemirror_mode": {
    "name": "ipython",
    "version": 3
   },
   "file_extension": ".py",
   "mimetype": "text/x-python",
   "name": "python",
   "nbconvert_exporter": "python",
   "pygments_lexer": "ipython3",
   "version": "3.7.1"
  }
 },
 "nbformat": 4,
 "nbformat_minor": 5
}
