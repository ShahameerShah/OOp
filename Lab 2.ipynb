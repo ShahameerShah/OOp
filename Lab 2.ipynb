{
 "cells": [
  {
   "cell_type": "markdown",
   "id": "c436bbad",
   "metadata": {},
   "source": [
    "# Function"
   ]
  },
  {
   "cell_type": "markdown",
   "id": "22530aaf",
   "metadata": {},
   "source": [
    "### task 5\n",
    "Define a function with name series. The function will take a list or tuple of resisters. The function\n",
    "will return the net resistance. Note that your function must be capable for any number of\n",
    "resisters. Note: Use elegant approach. Include appropriate docstrings. Print the doc string. Also\n",
    "add annotation to the function parameters and return type. In addition, display annotation using\n",
    "special dunder attribute of the function called __annotations__."
   ]
  },
  {
   "cell_type": "code",
   "execution_count": 37,
   "id": "b318449d",
   "metadata": {},
   "outputs": [],
   "source": [
    "def series(lst=[]):\n",
    "    \"\"\"Thsistance.\n",
    "    is function will return net rence.\n",
    "    \n",
    "    It will take a list of reistawill return net resisr=tance\n",
    "    it \n",
    "    \"\"\"\n",
    "    net_resit = sum(lst)\n",
    "    return net_resit"
   ]
  },
  {
   "cell_type": "code",
   "execution_count": 38,
   "id": "882e2b37",
   "metadata": {},
   "outputs": [
    {
     "data": {
      "text/plain": [
       "'Thsistance.\\n    is function will return net rence.\\n    \\n    It will take a list of reistawill return net resisr=tance\\n    it \\n    '"
      ]
     },
     "execution_count": 38,
     "metadata": {},
     "output_type": "execute_result"
    }
   ],
   "source": [
    "series.__doc__"
   ]
  },
  {
   "cell_type": "code",
   "execution_count": 39,
   "id": "916c822d",
   "metadata": {},
   "outputs": [
    {
     "name": "stdout",
     "output_type": "stream",
     "text": [
      "Help on function series in module __main__:\n",
      "\n",
      "series(lst=[])\n",
      "    Thsistance.\n",
      "    is function will return net rence.\n",
      "    \n",
      "    It will take a list of reistawill return net resisr=tance\n",
      "    it\n",
      "\n"
     ]
    }
   ],
   "source": [
    "help(series)"
   ]
  },
  {
   "cell_type": "code",
   "execution_count": 34,
   "id": "3810db95",
   "metadata": {},
   "outputs": [],
   "source": [
    "def series(lst=[]):\n",
    "    net_resit = sum(lst)\n",
    "    return net_resit"
   ]
  },
  {
   "cell_type": "code",
   "execution_count": 35,
   "id": "fb54e609",
   "metadata": {},
   "outputs": [
    {
     "data": {
      "text/plain": [
       "6"
      ]
     },
     "execution_count": 35,
     "metadata": {},
     "output_type": "execute_result"
    }
   ],
   "source": [
    "series([1,2,3])"
   ]
  },
  {
   "cell_type": "code",
   "execution_count": 36,
   "id": "1115c2c4",
   "metadata": {},
   "outputs": [
    {
     "data": {
      "text/plain": [
       "15"
      ]
     },
     "execution_count": 36,
     "metadata": {},
     "output_type": "execute_result"
    }
   ],
   "source": [
    "series([1,2,3,4,5])"
   ]
  },
  {
   "cell_type": "code",
   "execution_count": 33,
   "id": "6f39c32d",
   "metadata": {},
   "outputs": [],
   "source": [
    "def series(lst=[]):\n",
    "    net_resit = sum(lst)"
   ]
  },
  {
   "cell_type": "code",
   "execution_count": 32,
   "id": "4d7473e8",
   "metadata": {},
   "outputs": [],
   "source": [
    "def series(lst=[]):\n",
    "    pass"
   ]
  },
  {
   "cell_type": "code",
   "execution_count": 31,
   "id": "4e7929db",
   "metadata": {},
   "outputs": [],
   "source": [
    "def series():\n",
    "    pass"
   ]
  },
  {
   "cell_type": "markdown",
   "id": "c2f1fc09",
   "metadata": {},
   "source": [
    "### Lab Report tasks:\n",
    "Define a function that will take the name and registration number of a student and print it.\n",
    "Include appropriate docstrings.\n",
    "a. The argument pass will like positional arguments.\n",
    "b. The arguments passing will like keyword arguments.\n",
    "c. The arguments passing will like default arguments.\n",
    "d. Pass the arguments of one style to the other.\n",
    "e. Passing less number of arguments and check the error message.\n",
    "f. Verify that whether positional argument follows keyword argument"
   ]
  },
  {
   "cell_type": "code",
   "execution_count": 9,
   "id": "39465fdc",
   "metadata": {},
   "outputs": [],
   "source": [
    "def registration(name , reg_no):\n",
    "    pass"
   ]
  },
  {
   "cell_type": "code",
   "execution_count": 16,
   "id": "b55e0f6b",
   "metadata": {},
   "outputs": [],
   "source": [
    "def registration(name , reg_no):\n",
    "    '''the function will reurn the student info\n",
    "    it will take 2 aurgumnets name and regno\n",
    "    \n",
    "    '''\n",
    "    print(f\"name: {name}, reg.no: {reg.no} \")\n",
    "    "
   ]
  },
  {
   "cell_type": "code",
   "execution_count": null,
   "id": "8d869067",
   "metadata": {},
   "outputs": [],
   "source": []
  },
  {
   "cell_type": "code",
   "execution_count": 14,
   "id": "eb7dc46a",
   "metadata": {},
   "outputs": [
    {
     "data": {
      "text/plain": [
       "'the function will reurn the student info\\n    it will take 2 aurgumnets name and regno\\n    \\n    '"
      ]
     },
     "execution_count": 14,
     "metadata": {},
     "output_type": "execute_result"
    }
   ],
   "source": [
    "registration.__doc__"
   ]
  },
  {
   "cell_type": "code",
   "execution_count": 15,
   "id": "cb12d24d",
   "metadata": {},
   "outputs": [
    {
     "name": "stdout",
     "output_type": "stream",
     "text": [
      "Help on function registration in module __main__:\n",
      "\n",
      "registration(name, regno)\n",
      "    the function will reurn the student info\n",
      "    it will take 2 aurgumnets name and regno\n",
      "\n"
     ]
    }
   ],
   "source": [
    "help(registration)"
   ]
  },
  {
   "cell_type": "code",
   "execution_count": 1,
   "id": "5557b22c",
   "metadata": {},
   "outputs": [
    {
     "name": "stdout",
     "output_type": "stream",
     "text": [
      "name: afaq, reg_no: 0534\n"
     ]
    }
   ],
   "source": [
    "def registration_info(name , reg_no):\n",
    "  print(f\"name: {name}, reg_no: {reg_no}\")\n",
    "\n",
    "registration_info(\"afaq\" ,\"0534\")"
   ]
  },
  {
   "cell_type": "code",
   "execution_count": 2,
   "id": "ac7acedd",
   "metadata": {},
   "outputs": [],
   "source": [
    "def name(name1 = 'abs', reg='2'):\n",
    "    return name1, reg"
   ]
  },
  {
   "cell_type": "code",
   "execution_count": 3,
   "id": "d24f317f",
   "metadata": {},
   "outputs": [
    {
     "data": {
      "text/plain": [
       "('abs', '2')"
      ]
     },
     "execution_count": 3,
     "metadata": {},
     "output_type": "execute_result"
    }
   ],
   "source": [
    "name()"
   ]
  },
  {
   "cell_type": "code",
   "execution_count": 6,
   "id": "00ed1172",
   "metadata": {},
   "outputs": [
    {
     "ename": "TypeError",
     "evalue": "registration_info() missing 1 required positional argument: 'reg_no'",
     "output_type": "error",
     "traceback": [
      "\u001b[1;31m---------------------------------------------------------------------------\u001b[0m",
      "\u001b[1;31mTypeError\u001b[0m                                 Traceback (most recent call last)",
      "\u001b[1;32m~\\AppData\\Local\\Temp\\ipykernel_7288\\2844456835.py\u001b[0m in \u001b[0;36m<module>\u001b[1;34m\u001b[0m\n\u001b[0;32m      1\u001b[0m \u001b[1;32mdef\u001b[0m \u001b[0mregistration_info\u001b[0m\u001b[1;33m(\u001b[0m\u001b[0mname\u001b[0m\u001b[1;33m,\u001b[0m\u001b[0mreg_no\u001b[0m\u001b[1;33m)\u001b[0m\u001b[1;33m:\u001b[0m\u001b[1;33m\u001b[0m\u001b[1;33m\u001b[0m\u001b[0m\n\u001b[0;32m      2\u001b[0m     \u001b[0mprint\u001b[0m\u001b[1;33m(\u001b[0m\u001b[1;34mf\"name:{name},reg_no:{reg_no}\"\u001b[0m\u001b[1;33m)\u001b[0m\u001b[1;33m\u001b[0m\u001b[1;33m\u001b[0m\u001b[0m\n\u001b[1;32m----> 3\u001b[1;33m \u001b[0mregistration_info\u001b[0m\u001b[1;33m(\u001b[0m\u001b[1;34m\"Shah\"\u001b[0m\u001b[1;33m)\u001b[0m\u001b[1;33m\u001b[0m\u001b[1;33m\u001b[0m\u001b[0m\n\u001b[0m\u001b[0;32m      4\u001b[0m \u001b[1;33m\u001b[0m\u001b[0m\n",
      "\u001b[1;31mTypeError\u001b[0m: registration_info() missing 1 required positional argument: 'reg_no'"
     ]
    }
   ],
   "source": [
    "def registration_info(name,reg_no):\n",
    "    print(f\"name:{name},reg_no:{reg_no}\")\n",
    "registration_info(\"Shah\")\n",
    "    "
   ]
  },
  {
   "cell_type": "markdown",
   "id": "63aa54a2",
   "metadata": {},
   "source": [
    "### Lab work tasks:"
   ]
  },
  {
   "cell_type": "markdown",
   "id": "e55c2a28",
   "metadata": {},
   "source": [
    "#### Observe the output of the following"
   ]
  },
  {
   "cell_type": "code",
   "execution_count": 8,
   "id": "f05508ce",
   "metadata": {},
   "outputs": [],
   "source": [
    " errno = 50159747054   \n",
    "name = 'bob'"
   ]
  },
  {
   "cell_type": "code",
   "execution_count": 9,
   "id": "5c3c184f",
   "metadata": {},
   "outputs": [
    {
     "name": "stdout",
     "output_type": "stream",
     "text": [
      "Hello, Bob\n"
     ]
    }
   ],
   "source": [
    "errno = 50159747054\n",
    "name = 'Bob'\n",
    "print('Hello, %s' % name)"
   ]
  },
  {
   "cell_type": "code",
   "execution_count": 2,
   "id": "455d759f",
   "metadata": {},
   "outputs": [
    {
     "data": {
      "text/plain": [
       "'Hey bob, there is a 0xbadc0ffee error!'"
      ]
     },
     "execution_count": 2,
     "metadata": {},
     "output_type": "execute_result"
    }
   ],
   "source": [
    "errno = 50159747054   \n",
    "name = 'bob'\n",
    "\n",
    "'Hey %s, there is a 0x%x error!' % (name, errno)\n",
    "\n"
   ]
  },
  {
   "cell_type": "code",
   "execution_count": 8,
   "id": "9673d8bb",
   "metadata": {},
   "outputs": [
    {
     "data": {
      "text/plain": [
       "'Hey bob, there is a 0xbadc0ffee error!'"
      ]
     },
     "execution_count": 8,
     "metadata": {},
     "output_type": "execute_result"
    }
   ],
   "source": [
    "errno = 50159747054   \n",
    "name = 'bob'\n",
    "'Hey %(name)s, there is a 0x%(errno)x error!' % { \"name\": name, \"errno\": errno }"
   ]
  },
  {
   "cell_type": "code",
   "execution_count": 9,
   "id": "5e978751",
   "metadata": {},
   "outputs": [
    {
     "data": {
      "text/plain": [
       "'Hello, bob'"
      ]
     },
     "execution_count": 9,
     "metadata": {},
     "output_type": "execute_result"
    }
   ],
   "source": [
    "'Hello, {}'.format(name)\n"
   ]
  },
  {
   "cell_type": "code",
   "execution_count": 10,
   "id": "793c83b7",
   "metadata": {},
   "outputs": [
    {
     "data": {
      "text/plain": [
       "'Hello, bob!'"
      ]
     },
     "execution_count": 10,
     "metadata": {},
     "output_type": "execute_result"
    }
   ],
   "source": [
    "f'Hello, {name}!'"
   ]
  },
  {
   "cell_type": "code",
   "execution_count": 11,
   "id": "28a3fbf1",
   "metadata": {},
   "outputs": [
    {
     "ename": "NameError",
     "evalue": "name 'Template' is not defined",
     "output_type": "error",
     "traceback": [
      "\u001b[1;31m---------------------------------------------------------------------------\u001b[0m",
      "\u001b[1;31mNameError\u001b[0m                                 Traceback (most recent call last)",
      "\u001b[1;32m~\\AppData\\Local\\Temp\\ipykernel_7544\\2412278931.py\u001b[0m in \u001b[0;36m<module>\u001b[1;34m\u001b[0m\n\u001b[1;32m----> 1\u001b[1;33m \u001b[0mt\u001b[0m \u001b[1;33m=\u001b[0m \u001b[0mTemplate\u001b[0m\u001b[1;33m(\u001b[0m\u001b[1;34m'Hey, $name!'\u001b[0m\u001b[1;33m)\u001b[0m\u001b[1;33m\u001b[0m\u001b[1;33m\u001b[0m\u001b[0m\n\u001b[0m",
      "\u001b[1;31mNameError\u001b[0m: name 'Template' is not defined"
     ]
    }
   ],
   "source": [
    "t = Template('Hey, $name!') "
   ]
  },
  {
   "cell_type": "code",
   "execution_count": 12,
   "id": "fb152d55",
   "metadata": {},
   "outputs": [
    {
     "ename": "NameError",
     "evalue": "name 'st' is not defined",
     "output_type": "error",
     "traceback": [
      "\u001b[1;31m---------------------------------------------------------------------------\u001b[0m",
      "\u001b[1;31mNameError\u001b[0m                                 Traceback (most recent call last)",
      "\u001b[1;32m~\\AppData\\Local\\Temp\\ipykernel_7544\\1515321631.py\u001b[0m in \u001b[0;36m<module>\u001b[1;34m\u001b[0m\n\u001b[1;32m----> 1\u001b[1;33m \u001b[0mst\u001b[0m\u001b[1;33m.\u001b[0m\u001b[0msubstitute\u001b[0m\u001b[1;33m(\u001b[0m\u001b[0mname\u001b[0m\u001b[1;33m=\u001b[0m\u001b[0mname\u001b[0m\u001b[1;33m)\u001b[0m\u001b[1;33m\u001b[0m\u001b[1;33m\u001b[0m\u001b[0m\n\u001b[0m",
      "\u001b[1;31mNameError\u001b[0m: name 'st' is not defined"
     ]
    }
   ],
   "source": [
    "st.substitute(name=name)"
   ]
  },
  {
   "cell_type": "code",
   "execution_count": 14,
   "id": "32a66aed",
   "metadata": {},
   "outputs": [],
   "source": [
    "templ_string = 'Hey $name, there is a $error error!'"
   ]
  },
  {
   "cell_type": "code",
   "execution_count": null,
   "id": "b4866133",
   "metadata": {},
   "outputs": [],
   "source": []
  },
  {
   "cell_type": "code",
   "execution_count": null,
   "id": "1f17efb4",
   "metadata": {},
   "outputs": [],
   "source": []
  },
  {
   "cell_type": "code",
   "execution_count": null,
   "id": "010cf76c",
   "metadata": {},
   "outputs": [],
   "source": []
  },
  {
   "cell_type": "code",
   "execution_count": null,
   "id": "3b0efa10",
   "metadata": {},
   "outputs": [],
   "source": []
  },
  {
   "cell_type": "code",
   "execution_count": null,
   "id": "90b48ae3",
   "metadata": {},
   "outputs": [],
   "source": []
  },
  {
   "cell_type": "markdown",
   "id": "4eac3763",
   "metadata": {},
   "source": [
    "### Build-in functions."
   ]
  },
  {
   "cell_type": "markdown",
   "id": "c8240da0",
   "metadata": {},
   "source": [
    "#### Task 1\n",
    "Use len() and find the length of three lists and two strings."
   ]
  },
  {
   "cell_type": "code",
   "execution_count": 16,
   "id": "d826ad86",
   "metadata": {},
   "outputs": [],
   "source": [
    "list1=['a','b','c','c']"
   ]
  },
  {
   "cell_type": "code",
   "execution_count": 18,
   "id": "0ededa58",
   "metadata": {},
   "outputs": [
    {
     "data": {
      "text/plain": [
       "4"
      ]
     },
     "execution_count": 18,
     "metadata": {},
     "output_type": "execute_result"
    }
   ],
   "source": [
    "len(list1)"
   ]
  },
  {
   "cell_type": "code",
   "execution_count": 20,
   "id": "f4bb99f1",
   "metadata": {},
   "outputs": [],
   "source": [
    "list2=['A','B','C']\n"
   ]
  },
  {
   "cell_type": "code",
   "execution_count": 21,
   "id": "a8006d5a",
   "metadata": {},
   "outputs": [
    {
     "data": {
      "text/plain": [
       "3"
      ]
     },
     "execution_count": 21,
     "metadata": {},
     "output_type": "execute_result"
    }
   ],
   "source": [
    "len(list2)"
   ]
  },
  {
   "cell_type": "code",
   "execution_count": 23,
   "id": "51d45055",
   "metadata": {},
   "outputs": [
    {
     "data": {
      "text/plain": [
       "10"
      ]
     },
     "execution_count": 23,
     "metadata": {},
     "output_type": "execute_result"
    }
   ],
   "source": [
    "list3=[1,2,3,4,5,6,7,8,9,10]\n",
    "len(list3)"
   ]
  },
  {
   "cell_type": "markdown",
   "id": "ff6e7d1d",
   "metadata": {},
   "source": [
    "#### Use for three example .is_integer()."
   ]
  },
  {
   "cell_type": "code",
   "execution_count": 32,
   "id": "4b5c3943",
   "metadata": {},
   "outputs": [
    {
     "name": "stdout",
     "output_type": "stream",
     "text": [
      "True\n"
     ]
    }
   ],
   "source": [
    "num1= 23.\n",
    "print(num1.is_integer())"
   ]
  },
  {
   "cell_type": "code",
   "execution_count": 34,
   "id": "d887bf4e",
   "metadata": {},
   "outputs": [
    {
     "name": "stdout",
     "output_type": "stream",
     "text": [
      "True\n"
     ]
    }
   ],
   "source": [
    "num2 = 2.0\n",
    "print(num1.is_integer())\n"
   ]
  },
  {
   "cell_type": "code",
   "execution_count": 38,
   "id": "eee90880",
   "metadata": {},
   "outputs": [
    {
     "name": "stdout",
     "output_type": "stream",
     "text": [
      "False\n"
     ]
    }
   ],
   "source": [
    "num3=4.9\n",
    "print(num3.is_integer())"
   ]
  },
  {
   "cell_type": "markdown",
   "id": "30b26070",
   "metadata": {},
   "source": [
    "#### Task 3\n",
    "Use for three example .conjugate() "
   ]
  },
  {
   "cell_type": "code",
   "execution_count": 2,
   "id": "c5c5285d",
   "metadata": {},
   "outputs": [],
   "source": [
    "Z=3+4J"
   ]
  },
  {
   "cell_type": "code",
   "execution_count": 4,
   "id": "2e65b25c",
   "metadata": {},
   "outputs": [
    {
     "name": "stdout",
     "output_type": "stream",
     "text": [
      "(3-4j)\n"
     ]
    }
   ],
   "source": [
    "z=Z.conjugate()\n",
    "print(z)"
   ]
  },
  {
   "cell_type": "code",
   "execution_count": 9,
   "id": "286e25d5",
   "metadata": {},
   "outputs": [
    {
     "name": "stdout",
     "output_type": "stream",
     "text": [
      "[(1-2j), (3+4j), (-1-1j)]\n"
     ]
    }
   ],
   "source": [
    "complex_numbers = [1 + 2j, 3 - 4j, -1 + 1j]\n",
    "conjugates = [z.conjugate() for z in complex_numbers]\n",
    "print(conjugates)\n"
   ]
  },
  {
   "cell_type": "code",
   "execution_count": 12,
   "id": "7a739050",
   "metadata": {},
   "outputs": [],
   "source": [
    "R=44+4j"
   ]
  },
  {
   "cell_type": "code",
   "execution_count": 14,
   "id": "89883e3c",
   "metadata": {},
   "outputs": [
    {
     "name": "stdout",
     "output_type": "stream",
     "text": [
      "(44-4j)\n"
     ]
    }
   ],
   "source": [
    "r=R.conjugate()\n",
    "print(r)"
   ]
  },
  {
   "cell_type": "markdown",
   "id": "03322ab4",
   "metadata": {},
   "source": [
    "### Function \n",
    "i. Define a function that will take the name and registration number of a student and print it. Include appropriate docstrings.  \n",
    "a. The argument pass will like positional arguments.  \n",
    "b. The arguments passing will like keyword arguments. \n",
    "c. The arguments passing will like default arguments.  \n",
    "d. Pass the arguments of one style to the other.  \n",
    "e. Passing less number of arguments and check the error message.  \n",
    "f. Verify that whether positional argument follows keyword argument "
   ]
  },
  {
   "cell_type": "code",
   "execution_count": 15,
   "id": "e3974385",
   "metadata": {},
   "outputs": [],
   "source": [
    "def registration(name , reg_no):\n",
    "    pass"
   ]
  },
  {
   "cell_type": "code",
   "execution_count": 18,
   "id": "379d19fa",
   "metadata": {},
   "outputs": [],
   "source": [
    "def registration(name , reg_no):\n",
    "    '''the function will reurn the student info\n",
    "    it will take 2 aurgumnets name and regno\n",
    "    \n",
    "    '''\n",
    "    print(f\"name: {name}, reg.no: {reg_no} \")"
   ]
  },
  {
   "cell_type": "code",
   "execution_count": 19,
   "id": "479197e4",
   "metadata": {},
   "outputs": [
    {
     "data": {
      "text/plain": [
       "'the function will reurn the student info\\n    it will take 2 aurgumnets name and regno\\n    \\n    '"
      ]
     },
     "execution_count": 19,
     "metadata": {},
     "output_type": "execute_result"
    }
   ],
   "source": [
    "registration.__doc__"
   ]
  },
  {
   "cell_type": "code",
   "execution_count": 21,
   "id": "f300ac7d",
   "metadata": {},
   "outputs": [
    {
     "name": "stdout",
     "output_type": "stream",
     "text": [
      "name: Ali, reg_no: 0541\n"
     ]
    }
   ],
   "source": [
    "def registration_info(name , reg_no):\n",
    "  print(f\"name: {name}, reg_no: {reg_no}\")\n",
    "\n",
    "registration_info(\"Ali\" ,\"0541\")"
   ]
  },
  {
   "cell_type": "code",
   "execution_count": 22,
   "id": "6aee1233",
   "metadata": {},
   "outputs": [],
   "source": [
    "def name(name1 = 'abs', reg='2'):\n",
    "    return name1, reg"
   ]
  },
  {
   "cell_type": "code",
   "execution_count": 23,
   "id": "346bca75",
   "metadata": {},
   "outputs": [
    {
     "data": {
      "text/plain": [
       "('abs', '2')"
      ]
     },
     "execution_count": 23,
     "metadata": {},
     "output_type": "execute_result"
    }
   ],
   "source": [
    "name()"
   ]
  },
  {
   "cell_type": "code",
   "execution_count": 24,
   "id": "0b87efb2",
   "metadata": {},
   "outputs": [
    {
     "ename": "TypeError",
     "evalue": "registration_info() missing 1 required positional argument: 'reg_no'",
     "output_type": "error",
     "traceback": [
      "\u001b[1;31m---------------------------------------------------------------------------\u001b[0m",
      "\u001b[1;31mTypeError\u001b[0m                                 Traceback (most recent call last)",
      "\u001b[1;32m~\\AppData\\Local\\Temp\\ipykernel_11208\\3069049735.py\u001b[0m in \u001b[0;36m<module>\u001b[1;34m\u001b[0m\n\u001b[0;32m      1\u001b[0m \u001b[1;32mdef\u001b[0m \u001b[0mregistration_info\u001b[0m\u001b[1;33m(\u001b[0m\u001b[0mname\u001b[0m\u001b[1;33m,\u001b[0m\u001b[0mreg_no\u001b[0m\u001b[1;33m)\u001b[0m\u001b[1;33m:\u001b[0m\u001b[1;33m\u001b[0m\u001b[1;33m\u001b[0m\u001b[0m\n\u001b[0;32m      2\u001b[0m     \u001b[0mprint\u001b[0m\u001b[1;33m(\u001b[0m\u001b[1;34mf\"name:{name},reg_no:{reg_no}\"\u001b[0m\u001b[1;33m)\u001b[0m\u001b[1;33m\u001b[0m\u001b[1;33m\u001b[0m\u001b[0m\n\u001b[1;32m----> 3\u001b[1;33m \u001b[0mregistration_info\u001b[0m\u001b[1;33m(\u001b[0m\u001b[1;34m\"Shah\"\u001b[0m\u001b[1;33m)\u001b[0m\u001b[1;33m\u001b[0m\u001b[1;33m\u001b[0m\u001b[0m\n\u001b[0m",
      "\u001b[1;31mTypeError\u001b[0m: registration_info() missing 1 required positional argument: 'reg_no'"
     ]
    }
   ],
   "source": [
    "def registration_info(name,reg_no):\n",
    "    print(f\"name:{name},reg_no:{reg_no}\")\n",
    "registration_info(\"Shah\")"
   ]
  },
  {
   "cell_type": "code",
   "execution_count": 49,
   "id": "b6326ade",
   "metadata": {},
   "outputs": [
    {
     "ename": "SyntaxError",
     "evalue": "EOF while scanning triple-quoted string literal (1868886979.py, line 4)",
     "output_type": "error",
     "traceback": [
      "\u001b[1;36m  File \u001b[1;32m\"C:\\Users\\HAS\\AppData\\Local\\Temp\\ipykernel_11208\\1868886979.py\"\u001b[1;36m, line \u001b[1;32m4\u001b[0m\n\u001b[1;33m    registration_info(\"Shah\",\"0541\")'''''''\u001b[0m\n\u001b[1;37m                                           \n^\u001b[0m\n\u001b[1;31mSyntaxError\u001b[0m\u001b[1;31m:\u001b[0m EOF while scanning triple-quoted string literal\n"
     ]
    }
   ],
   "source": [
    "''''''''''\n",
    "def registration_info(name,reg_no='0540'):\n",
    "    print(f\"name:{name},reg_no:{reg_no}\")\n",
    "registration_info(\"Shah\",\"0541\")'''''''"
   ]
  },
  {
   "cell_type": "markdown",
   "id": "5785a1b3",
   "metadata": {},
   "source": [
    "ii. Define a function that will take the parameters as current and resistance and will output the voltage across the resistance. Include appropriate docstrings. \n",
    "a. The argument pass will like positional arguments.  \n",
    "b. The arguments passing will like keyword arguments. \n",
    "c. The arguments passing will like default arguments.  \n",
    "d. Pass the arguments of one style to the other.  \n",
    "e. Passing less number of arguments and check the error message.  \n",
    "f. Verify that whether positional argument follows keyword argument"
   ]
  },
  {
   "cell_type": "code",
   "execution_count": 35,
   "id": "478e8847",
   "metadata": {},
   "outputs": [],
   "source": [
    "def calculate_voltage(current, resistance):\n",
    "    \"\"\"\n",
    "    Calculate the voltage across a resistor using Ohm's Law.\n",
    "\n",
    "    Parameters:\n",
    "    current (float): The current in amperes (A).\n",
    "    resistance (float): The resistance in ohms (Ω).\n",
    "\n",
    "    Returns:\n",
    "    float: The voltage across the resistor in volts (V).\n",
    "    \"\"\"\n",
    "    Voltage = current * resistance\n",
    "    return voltage\n",
    "\n"
   ]
  },
  {
   "cell_type": "code",
   "execution_count": 36,
   "id": "66c69bdd",
   "metadata": {},
   "outputs": [
    {
     "name": "stdout",
     "output_type": "stream",
     "text": [
      "The voltage across the resistance is 10.0 volts.\n"
     ]
    }
   ],
   "source": [
    "current = 2.0  \n",
    "resistance = 5.0  \n",
    "voltage = calculate_voltage(current, resistance)\n",
    "print(f\"The voltage across the resistance is {voltage} volts.\")"
   ]
  },
  {
   "cell_type": "code",
   "execution_count": 37,
   "id": "9bad0a7f",
   "metadata": {},
   "outputs": [
    {
     "ename": "TypeError",
     "evalue": "calculate_voltage() missing 1 required positional argument: 'resistance'",
     "output_type": "error",
     "traceback": [
      "\u001b[1;31m---------------------------------------------------------------------------\u001b[0m",
      "\u001b[1;31mTypeError\u001b[0m                                 Traceback (most recent call last)",
      "\u001b[1;32m~\\AppData\\Local\\Temp\\ipykernel_11208\\2783787979.py\u001b[0m in \u001b[0;36m<module>\u001b[1;34m\u001b[0m\n\u001b[0;32m     13\u001b[0m     \u001b[1;32mreturn\u001b[0m \u001b[0mvoltage\u001b[0m\u001b[1;33m\u001b[0m\u001b[1;33m\u001b[0m\u001b[0m\n\u001b[0;32m     14\u001b[0m \u001b[0mresistance\u001b[0m \u001b[1;33m=\u001b[0m \u001b[1;36m5.0\u001b[0m\u001b[1;33m\u001b[0m\u001b[1;33m\u001b[0m\u001b[0m\n\u001b[1;32m---> 15\u001b[1;33m \u001b[0mvoltage\u001b[0m \u001b[1;33m=\u001b[0m \u001b[0mcalculate_voltage\u001b[0m\u001b[1;33m(\u001b[0m\u001b[0mresistance\u001b[0m\u001b[1;33m)\u001b[0m\u001b[1;33m\u001b[0m\u001b[1;33m\u001b[0m\u001b[0m\n\u001b[0m\u001b[0;32m     16\u001b[0m \u001b[0mprint\u001b[0m\u001b[1;33m(\u001b[0m\u001b[1;34mf\"The voltage across the resistance is {voltage} volts.\"\u001b[0m\u001b[1;33m)\u001b[0m\u001b[1;33m\u001b[0m\u001b[1;33m\u001b[0m\u001b[0m\n",
      "\u001b[1;31mTypeError\u001b[0m: calculate_voltage() missing 1 required positional argument: 'resistance'"
     ]
    }
   ],
   "source": [
    "def calculate_voltage(current, resistance):\n",
    "    \"\"\"\n",
    "    Calculate the voltage across a resistor using Ohm's Law.\n",
    "\n",
    "    Parameters:\n",
    "    current (float): The current in amperes (A).\n",
    "    resistance (float): The resistance in ohms (Ω).\n",
    "\n",
    "    Returns:\n",
    "    float: The voltage across the resistor in volts (V).\n",
    "    \"\"\"\n",
    "    Voltage = current * resistance\n",
    "    return voltage\n",
    "resistance = 5.0  \n",
    "voltage = calculate_voltage(resistance)\n",
    "print(f\"The voltage across the resistance is {voltage} volts.\")"
   ]
  },
  {
   "cell_type": "code",
   "execution_count": 39,
   "id": "6caab9dc",
   "metadata": {},
   "outputs": [
    {
     "ename": "SyntaxError",
     "evalue": "non-default argument follows default argument (648244996.py, line 1)",
     "output_type": "error",
     "traceback": [
      "\u001b[1;36m  File \u001b[1;32m\"C:\\Users\\HAS\\AppData\\Local\\Temp\\ipykernel_11208\\648244996.py\"\u001b[1;36m, line \u001b[1;32m1\u001b[0m\n\u001b[1;33m    def calculate_voltage(current=5, resistance):\u001b[0m\n\u001b[1;37m                         ^\u001b[0m\n\u001b[1;31mSyntaxError\u001b[0m\u001b[1;31m:\u001b[0m non-default argument follows default argument\n"
     ]
    }
   ],
   "source": [
    "def calculate_voltage(current=5, resistance):\n",
    "    \n",
    "    Voltage = current * resistance\n",
    "    return voltage\n",
    "current = 2.0  \n",
    "resistance = 5.0  \n",
    "voltage = calculate_voltage(current, resistance)\n",
    "print(f\"The voltage across the resistance is {voltage} volts.\")"
   ]
  },
  {
   "cell_type": "code",
   "execution_count": null,
   "id": "060fe3ec",
   "metadata": {},
   "outputs": [],
   "source": []
  },
  {
   "cell_type": "code",
   "execution_count": null,
   "id": "84036712",
   "metadata": {},
   "outputs": [],
   "source": []
  },
  {
   "cell_type": "code",
   "execution_count": null,
   "id": "eaef2664",
   "metadata": {},
   "outputs": [],
   "source": []
  },
  {
   "cell_type": "markdown",
   "id": "e29b7c26",
   "metadata": {},
   "source": [
    "iii. Define a function with name charge_from_solar and pass the state of charge (SOC) to the function. If SOC is less than 20% display charging if it is above 90% do nothing and return and if it is in between display that battery will be charge and there is --- % of charge in the battery. Include appropriate docstrings. Print the doc string. Also add annotation to the function parameters and return type.  "
   ]
  },
  {
   "cell_type": "code",
   "execution_count": 55,
   "id": "a59b40d9",
   "metadata": {},
   "outputs": [
    {
     "name": "stdout",
     "output_type": "stream",
     "text": [
      "The battery will be charged, and there is 50% of charge in the battery.\n"
     ]
    }
   ],
   "source": [
    "def charge_from_solar(soc: float) -> None:\n",
    "    \"\"\"\n",
    "    Determine the charging state based on the State of Charge (SOC) of a battery.\n",
    "\n",
    "    \n",
    "     The current State of Charge of the battery as a percentage (0 to 100).\n",
    "\n",
    "    \n",
    "     This function does not return a value; it prints the charging state.\n",
    "    \"\"\"\n",
    "    if soc < 20:\n",
    "        print(\"Charging...\")\n",
    "    elif soc > 90:\n",
    "        return  # Do nothing\n",
    "    else:\n",
    "        print(f\"The battery will be charged, and there is {soc}% of charge in the battery.\")\n",
    "\n",
    "# Example usage\n",
    "soc_value = 50  # Example SOC\n",
    "charge_from_solar(soc_value)\n",
    "\n",
    "\n"
   ]
  },
  {
   "cell_type": "code",
   "execution_count": 56,
   "id": "599709ef",
   "metadata": {},
   "outputs": [
    {
     "name": "stdout",
     "output_type": "stream",
     "text": [
      "\n",
      "    Determine the charging state based on the State of Charge (SOC) of a battery.\n",
      "\n",
      "    \n",
      "     The current State of Charge of the battery as a percentage (0 to 100).\n",
      "\n",
      "    \n",
      "     This function does not return a value; it prints the charging state.\n",
      "    \n"
     ]
    }
   ],
   "source": [
    "# Print the docstring\n",
    "print(charge_from_solar.__doc__)"
   ]
  },
  {
   "cell_type": "code",
   "execution_count": null,
   "id": "4b455cdb",
   "metadata": {},
   "outputs": [],
   "source": []
  }
 ],
 "metadata": {
  "kernelspec": {
   "display_name": "Python 3 (ipykernel)",
   "language": "python",
   "name": "python3"
  },
  "language_info": {
   "codemirror_mode": {
    "name": "ipython",
    "version": 3
   },
   "file_extension": ".py",
   "mimetype": "text/x-python",
   "name": "python",
   "nbconvert_exporter": "python",
   "pygments_lexer": "ipython3",
   "version": "3.7.1"
  }
 },
 "nbformat": 4,
 "nbformat_minor": 5
}
