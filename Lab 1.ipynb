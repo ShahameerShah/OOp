{
 "cells": [
  {
   "cell_type": "code",
   "execution_count": 14,
   "id": "c137dacd",
   "metadata": {},
   "outputs": [],
   "source": [
    "def f(qty, item, price):\n",
    "    print(f'{qty} {item} cost ${price:.2f}')"
   ]
  },
  {
   "cell_type": "code",
   "execution_count": 15,
   "id": "de45e9a9",
   "metadata": {},
   "outputs": [
    {
     "name": "stdout",
     "output_type": "stream",
     "text": [
      "6 banana cost $3.14\n"
     ]
    }
   ],
   "source": [
    "f(6,'banana',3.14)"
   ]
  },
  {
   "cell_type": "code",
   "execution_count": 18,
   "id": "aa45011b",
   "metadata": {},
   "outputs": [
    {
     "name": "stdout",
     "output_type": "stream",
     "text": [
      "6 56 cost $11.30\n"
     ]
    }
   ],
   "source": [
    "f(6,56,11.3)"
   ]
  },
  {
   "cell_type": "code",
   "execution_count": null,
   "id": "0e20fd0c",
   "metadata": {},
   "outputs": [],
   "source": []
  }
 ],
 "metadata": {
  "kernelspec": {
   "display_name": "Python 3 (ipykernel)",
   "language": "python",
   "name": "python3"
  },
  "language_info": {
   "codemirror_mode": {
    "name": "ipython",
    "version": 3
   },
   "file_extension": ".py",
   "mimetype": "text/x-python",
   "name": "python",
   "nbconvert_exporter": "python",
   "pygments_lexer": "ipython3",
   "version": "3.7.1"
  }
 },
 "nbformat": 4,
 "nbformat_minor": 5
}
