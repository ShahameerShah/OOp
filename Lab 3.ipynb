{
 "cells": [
  {
   "cell_type": "markdown",
   "id": "46969924",
   "metadata": {},
   "source": [
    "## Lab Practice"
   ]
  },
  {
   "cell_type": "markdown",
   "id": "18c4bc95",
   "metadata": {},
   "source": [
    "### Make a list of any 5 inegers"
   ]
  },
  {
   "cell_type": "code",
   "execution_count": 2,
   "id": "dab3f6fb",
   "metadata": {},
   "outputs": [],
   "source": [
    "list = [1,2,3,4,5]"
   ]
  },
  {
   "cell_type": "markdown",
   "id": "1b79e8a1",
   "metadata": {},
   "source": [
    "#### Make a list that contain student name , last four digits of the registration number as an integer, CGPA as a float, and a list that contain the GPA of all semesters."
   ]
  },
  {
   "cell_type": "code",
   "execution_count": 13,
   "id": "a6c90ac6",
   "metadata": {},
   "outputs": [],
   "source": [
    "Student=[{\"Name\":\"Shahmeer\"},{\"reg_no\":\"0541\"},{\"CGPA\":\"3.0\"},{\"GPA\":[2.9,3.0]}]"
   ]
  },
  {
   "cell_type": "markdown",
   "id": "f5e7d845",
   "metadata": {},
   "source": [
    "#### In the Above List print Student's CGPA"
   ]
  },
  {
   "cell_type": "code",
   "execution_count": 16,
   "id": "80f1320f",
   "metadata": {},
   "outputs": [
    {
     "data": {
      "text/plain": [
       "{'GPA': [2.9, 3.0]}"
      ]
     },
     "execution_count": 16,
     "metadata": {},
     "output_type": "execute_result"
    }
   ],
   "source": [
    "Student[3]"
   ]
  },
  {
   "cell_type": "markdown",
   "id": "e0e85ef3",
   "metadata": {},
   "source": [
    "#### Print the list element using the While loop and use the len function"
   ]
  },
  {
   "cell_type": "code",
   "execution_count": 19,
   "id": "fd29c7a3",
   "metadata": {},
   "outputs": [
    {
     "name": "stdout",
     "output_type": "stream",
     "text": [
      "{'Name': 'Shahmeer'}\n",
      "{'reg_no': '0541'}\n",
      "{'CGPA': '3.0'}\n",
      "{'GPA': [2.9, 3.0]}\n"
     ]
    }
   ],
   "source": [
    "Student=[{\"Name\":\"Shahmeer\"},{\"reg_no\":\"0541\"},{\"CGPA\":\"3.0\"},{\"GPA\":[2.9,3.0]}]\n",
    "i = 0\n",
    "\n",
    "while i < len(Student):\n",
    "    print(Student[i])\n",
    "    i += 1\n"
   ]
  },
  {
   "cell_type": "markdown",
   "id": "4f07c17b",
   "metadata": {},
   "source": [
    "#### Acess the list of all semester GPAs using negtive indexing."
   ]
  },
  {
   "cell_type": "code",
   "execution_count": 21,
   "id": "fb204009",
   "metadata": {},
   "outputs": [
    {
     "data": {
      "text/plain": [
       "{'GPA': [2.9, 3.0]}"
      ]
     },
     "execution_count": 21,
     "metadata": {},
     "output_type": "execute_result"
    }
   ],
   "source": [
    "Student[-1]"
   ]
  },
  {
   "cell_type": "markdown",
   "id": "2192c70f",
   "metadata": {},
   "source": [
    "#### Make a list of first 20 integers using the range function."
   ]
  },
  {
   "cell_type": "code",
   "execution_count": 114,
   "id": "df474d7a",
   "metadata": {},
   "outputs": [
    {
     "ename": "SyntaxError",
     "evalue": "invalid syntax (559246230.py, line 1)",
     "output_type": "error",
     "traceback": [
      "\u001b[1;36m  File \u001b[1;32m\"C:\\Users\\HAS\\AppData\\Local\\Temp\\ipykernel_8216\\559246230.py\"\u001b[1;36m, line \u001b[1;32m1\u001b[0m\n\u001b[1;33m    [i for i in range(21)]:\u001b[0m\n\u001b[1;37m                           ^\u001b[0m\n\u001b[1;31mSyntaxError\u001b[0m\u001b[1;31m:\u001b[0m invalid syntax\n"
     ]
    }
   ],
   "source": [
    "[i for i in range(21)]:\n",
    "    "
   ]
  },
  {
   "cell_type": "markdown",
   "id": "5fb89d0e",
   "metadata": {},
   "source": [
    "#### Make a list of odd integers from 20 to 40 using the range function."
   ]
  },
  {
   "cell_type": "code",
   "execution_count": 1,
   "id": "5dc59eca",
   "metadata": {},
   "outputs": [
    {
     "name": "stdout",
     "output_type": "stream",
     "text": [
      "21\n",
      "23\n",
      "25\n",
      "27\n",
      "29\n",
      "31\n",
      "33\n",
      "35\n",
      "37\n",
      "39\n"
     ]
    }
   ],
   "source": [
    "for i in range(21, 41,2):\n",
    "    print(i)"
   ]
  },
  {
   "cell_type": "markdown",
   "id": "3007684f",
   "metadata": {},
   "source": [
    "#### Consider the student list. (a) Use in and Not In operators to ensure that the student is in the list or not."
   ]
  },
  {
   "cell_type": "code",
   "execution_count": 4,
   "id": "7c3b75fd",
   "metadata": {},
   "outputs": [
    {
     "name": "stdout",
     "output_type": "stream",
     "text": [
      "False\n"
     ]
    }
   ],
   "source": [
    "student= [\"Afaq\",\"Khayyam\",\"Ali\"]\n",
    "print (\"fawad\"in student)"
   ]
  },
  {
   "cell_type": "code",
   "execution_count": 15,
   "id": "e6ae27bf",
   "metadata": {},
   "outputs": [
    {
     "name": "stdout",
     "output_type": "stream",
     "text": [
      "True\n"
     ]
    }
   ],
   "source": [
    "student = [\"afaq\",\"khayam\",\"fawad\"]\n",
    "\n",
    "print(\"ali\"not in student)\n"
   ]
  },
  {
   "cell_type": "markdown",
   "id": "fbfd09e6",
   "metadata": {},
   "source": [
    "#### Print all the student list in task using for loop"
   ]
  },
  {
   "cell_type": "code",
   "execution_count": 45,
   "id": "d12a1f92",
   "metadata": {},
   "outputs": [
    {
     "name": "stdout",
     "output_type": "stream",
     "text": [
      "Afaq\n",
      "Khayyam\n",
      "Ali\n"
     ]
    }
   ],
   "source": [
    "students= [\"Afaq\",\"Khayyam\",\"Ali\"]\n",
    "for student in students:\n",
    "    print(student)\n",
    "      "
   ]
  },
  {
   "cell_type": "markdown",
   "id": "16041284",
   "metadata": {},
   "source": [
    "#### Observe that what is print, what is the first thing print, what is the last thing print. consider the task 8 for student list"
   ]
  },
  {
   "cell_type": "code",
   "execution_count": 46,
   "id": "ba5d33f6",
   "metadata": {},
   "outputs": [
    {
     "data": {
      "text/plain": [
       "['Khayyam', 'Ali']"
      ]
     },
     "execution_count": 46,
     "metadata": {},
     "output_type": "execute_result"
    }
   ],
   "source": [
    "students[1:3]"
   ]
  },
  {
   "cell_type": "code",
   "execution_count": 50,
   "id": "a5d17ae5",
   "metadata": {},
   "outputs": [
    {
     "data": {
      "text/plain": [
       "['Ali']"
      ]
     },
     "execution_count": 50,
     "metadata": {},
     "output_type": "execute_result"
    }
   ],
   "source": [
    "students[2:4]"
   ]
  },
  {
   "cell_type": "markdown",
   "id": "95b803ec",
   "metadata": {},
   "source": [
    "#### Make an appropriate list and use and demostrate the use of the following mutator method"
   ]
  },
  {
   "cell_type": "code",
   "execution_count": 68,
   "id": "62b9641c",
   "metadata": {},
   "outputs": [],
   "source": [
    "students.insert(2,\"bilal\")"
   ]
  },
  {
   "cell_type": "code",
   "execution_count": 69,
   "id": "982cb5c3",
   "metadata": {},
   "outputs": [
    {
     "data": {
      "text/plain": [
       "['Afaq', 'Khayyam', 'bilal', 'bilal', 'bilal', 'bilal', [...], 'Ali']"
      ]
     },
     "execution_count": 69,
     "metadata": {},
     "output_type": "execute_result"
    }
   ],
   "source": [
    "students"
   ]
  },
  {
   "cell_type": "markdown",
   "id": "cae4529d",
   "metadata": {},
   "source": []
  },
  {
   "cell_type": "code",
   "execution_count": 73,
   "id": "1622fa71",
   "metadata": {},
   "outputs": [],
   "source": [
    "students.append(\"Qasim\")"
   ]
  },
  {
   "cell_type": "code",
   "execution_count": 74,
   "id": "10e66273",
   "metadata": {},
   "outputs": [
    {
     "data": {
      "text/plain": [
       "['Afaq',\n",
       " 'Khayyam',\n",
       " 'bilal',\n",
       " 'bilal',\n",
       " 'bilal',\n",
       " 'bilal',\n",
       " [...],\n",
       " 'Ali',\n",
       " 'bilal',\n",
       " 'Qasim']"
      ]
     },
     "execution_count": 74,
     "metadata": {},
     "output_type": "execute_result"
    }
   ],
   "source": [
    "students"
   ]
  },
  {
   "cell_type": "code",
   "execution_count": 81,
   "id": "b4ca3195",
   "metadata": {},
   "outputs": [],
   "source": [
    "students.remove(\"bilal\")"
   ]
  },
  {
   "cell_type": "code",
   "execution_count": 82,
   "id": "85f6c440",
   "metadata": {},
   "outputs": [
    {
     "data": {
      "text/plain": [
       "['Afaq', 'Khayyam', [...], 'Ali', 'bilal', 'Qasim']"
      ]
     },
     "execution_count": 82,
     "metadata": {},
     "output_type": "execute_result"
    }
   ],
   "source": [
    "students"
   ]
  },
  {
   "cell_type": "code",
   "execution_count": 87,
   "id": "cb34c5ef",
   "metadata": {},
   "outputs": [],
   "source": [
    "students.extend(\"fawad\")"
   ]
  },
  {
   "cell_type": "code",
   "execution_count": 88,
   "id": "e48d8e5b",
   "metadata": {},
   "outputs": [
    {
     "data": {
      "text/plain": [
       "['Afaq', 'Khayyam', [...], 'Ali', 'bilal', 'Qasim', 'f', 'a', 'w', 'a', 'd']"
      ]
     },
     "execution_count": 88,
     "metadata": {},
     "output_type": "execute_result"
    }
   ],
   "source": [
    "students"
   ]
  },
  {
   "cell_type": "code",
   "execution_count": 89,
   "id": "6007330f",
   "metadata": {},
   "outputs": [],
   "source": [
    "students.extend(\"afaq\")"
   ]
  },
  {
   "cell_type": "code",
   "execution_count": 90,
   "id": "32e729d8",
   "metadata": {},
   "outputs": [
    {
     "data": {
      "text/plain": [
       "['Afaq',\n",
       " 'Khayyam',\n",
       " [...],\n",
       " 'Ali',\n",
       " 'bilal',\n",
       " 'Qasim',\n",
       " 'f',\n",
       " 'a',\n",
       " 'w',\n",
       " 'a',\n",
       " 'd',\n",
       " 'a',\n",
       " 'f',\n",
       " 'a',\n",
       " 'q']"
      ]
     },
     "execution_count": 90,
     "metadata": {},
     "output_type": "execute_result"
    }
   ],
   "source": [
    "students"
   ]
  },
  {
   "cell_type": "code",
   "execution_count": 94,
   "id": "6018a852",
   "metadata": {},
   "outputs": [
    {
     "data": {
      "text/plain": [
       "'a'"
      ]
     },
     "execution_count": 94,
     "metadata": {},
     "output_type": "execute_result"
    }
   ],
   "source": [
    "students.pop(-1)"
   ]
  },
  {
   "cell_type": "code",
   "execution_count": 95,
   "id": "616f28cf",
   "metadata": {},
   "outputs": [
    {
     "data": {
      "text/plain": [
       "['Afaq',\n",
       " 'Khayyam',\n",
       " [...],\n",
       " 'Ali',\n",
       " 'bilal',\n",
       " 'Qasim',\n",
       " 'f',\n",
       " 'a',\n",
       " 'w',\n",
       " 'a',\n",
       " 'd',\n",
       " 'a',\n",
       " 'f']"
      ]
     },
     "execution_count": 95,
     "metadata": {},
     "output_type": "execute_result"
    }
   ],
   "source": [
    "students"
   ]
  },
  {
   "cell_type": "markdown",
   "id": "70fd2625",
   "metadata": {},
   "source": [
    "#### Use list inducingin the following nested list and access each and evan element "
   ]
  },
  {
   "cell_type": "code",
   "execution_count": 1,
   "id": "066f916a",
   "metadata": {},
   "outputs": [
    {
     "name": "stdout",
     "output_type": "stream",
     "text": [
      "bb\n"
     ]
    }
   ],
   "source": [
    "x = [\"a\", [\"bb\", [\"ccc\", \"ddd\"], \"ee\", \"ff\"],\"gg\", [\"hh\", \"ii\"], \"j\"]\n",
    "\n",
    "bb = x[1][0]\n",
    "\n",
    "\n",
    "print(bb)"
   ]
  },
  {
   "cell_type": "markdown",
   "id": "83803cf1",
   "metadata": {},
   "source": [
    "### Tuple"
   ]
  },
  {
   "cell_type": "markdown",
   "id": "33266f28",
   "metadata": {},
   "source": [
    "\n",
    "#### make a tuple containing first fiive letters of eglish .(definition)"
   ]
  },
  {
   "cell_type": "code",
   "execution_count": 101,
   "id": "30619dfe",
   "metadata": {},
   "outputs": [],
   "source": [
    "we = (\"A\",\"B\",\"C\",\"D\",\"E\")"
   ]
  },
  {
   "cell_type": "markdown",
   "id": "a3513b09",
   "metadata": {},
   "source": [
    "#### print(we)"
   ]
  },
  {
   "cell_type": "code",
   "execution_count": 106,
   "id": "9ddec4ca",
   "metadata": {},
   "outputs": [
    {
     "data": {
      "text/plain": [
       "tuple"
      ]
     },
     "execution_count": 106,
     "metadata": {},
     "output_type": "execute_result"
    }
   ],
   "source": [
    "type(we)"
   ]
  },
  {
   "cell_type": "markdown",
   "id": "d6cecf0d",
   "metadata": {},
   "source": [
    "#### useee the index to access the third and last element "
   ]
  },
  {
   "cell_type": "code",
   "execution_count": 109,
   "id": "bd90ddde",
   "metadata": {},
   "outputs": [
    {
     "name": "stdout",
     "output_type": "stream",
     "text": [
      "C\n"
     ]
    }
   ],
   "source": [
    "print(we[2])"
   ]
  },
  {
   "cell_type": "code",
   "execution_count": 110,
   "id": "275acf3f",
   "metadata": {},
   "outputs": [
    {
     "name": "stdout",
     "output_type": "stream",
     "text": [
      "E\n"
     ]
    }
   ],
   "source": [
    "print(we[4])\n",
    "\n"
   ]
  },
  {
   "cell_type": "markdown",
   "id": "fc15c825",
   "metadata": {},
   "source": [
    "#### make an appropriate list and tuple and use different operationthat will show that is mutable and tuple is immutable "
   ]
  },
  {
   "cell_type": "code",
   "execution_count": 115,
   "id": "9283d4bf",
   "metadata": {},
   "outputs": [],
   "source": [
    "my_list=[\"Apple\",\"banana\",\"Orange\"]"
   ]
  },
  {
   "cell_type": "code",
   "execution_count": 116,
   "id": "6aff80b4",
   "metadata": {},
   "outputs": [],
   "source": [
    "my_tuple=(\"Apple\",\"Banana\",\"Orange\")"
   ]
  },
  {
   "cell_type": "code",
   "execution_count": 118,
   "id": "367607c0",
   "metadata": {},
   "outputs": [],
   "source": [
    "my_list.remove(\"Apple\")"
   ]
  },
  {
   "cell_type": "code",
   "execution_count": 119,
   "id": "4ac0c4b7",
   "metadata": {},
   "outputs": [
    {
     "data": {
      "text/plain": [
       "['banana', 'Orange']"
      ]
     },
     "execution_count": 119,
     "metadata": {},
     "output_type": "execute_result"
    }
   ],
   "source": [
    "my_list"
   ]
  },
  {
   "cell_type": "code",
   "execution_count": 120,
   "id": "c49bfbf2",
   "metadata": {},
   "outputs": [
    {
     "ename": "AttributeError",
     "evalue": "'tuple' object has no attribute 'remove'",
     "output_type": "error",
     "traceback": [
      "\u001b[1;31m---------------------------------------------------------------------------\u001b[0m",
      "\u001b[1;31mAttributeError\u001b[0m                            Traceback (most recent call last)",
      "\u001b[1;32m~\\AppData\\Local\\Temp\\ipykernel_8216\\1360441526.py\u001b[0m in \u001b[0;36m<module>\u001b[1;34m\u001b[0m\n\u001b[1;32m----> 1\u001b[1;33m \u001b[0mmy_tuple\u001b[0m\u001b[1;33m.\u001b[0m\u001b[0mremove\u001b[0m\u001b[1;33m(\u001b[0m\u001b[1;34m\"Apple\"\u001b[0m\u001b[1;33m)\u001b[0m\u001b[1;33m\u001b[0m\u001b[1;33m\u001b[0m\u001b[0m\n\u001b[0m",
      "\u001b[1;31mAttributeError\u001b[0m: 'tuple' object has no attribute 'remove'"
     ]
    }
   ],
   "source": [
    "my_tuple.remove(\"Apple\")"
   ]
  },
  {
   "cell_type": "markdown",
   "id": "bcbaee86",
   "metadata": {},
   "source": [
    "#### make a tuple num = (1,2,3,4,)"
   ]
  },
  {
   "cell_type": "code",
   "execution_count": 125,
   "id": "aeb95018",
   "metadata": {},
   "outputs": [],
   "source": [
    "num=(1,2,3,4)"
   ]
  },
  {
   "cell_type": "code",
   "execution_count": 126,
   "id": "11b0f5dc",
   "metadata": {},
   "outputs": [
    {
     "ename": "TypeError",
     "evalue": "'tuple' object does not support item assignment",
     "output_type": "error",
     "traceback": [
      "\u001b[1;31m---------------------------------------------------------------------------\u001b[0m",
      "\u001b[1;31mTypeError\u001b[0m                                 Traceback (most recent call last)",
      "\u001b[1;32m~\\AppData\\Local\\Temp\\ipykernel_8216\\13103974.py\u001b[0m in \u001b[0;36m<module>\u001b[1;34m\u001b[0m\n\u001b[1;32m----> 1\u001b[1;33m \u001b[0mnum\u001b[0m\u001b[1;33m[\u001b[0m\u001b[1;36m2\u001b[0m\u001b[1;33m]\u001b[0m \u001b[1;33m=\u001b[0m\u001b[1;36m9\u001b[0m\u001b[1;33m\u001b[0m\u001b[1;33m\u001b[0m\u001b[0m\n\u001b[0m",
      "\u001b[1;31mTypeError\u001b[0m: 'tuple' object does not support item assignment"
     ]
    }
   ],
   "source": [
    "\n",
    " num[2] =9"
   ]
  },
  {
   "cell_type": "markdown",
   "id": "86b30be3",
   "metadata": {},
   "source": [
    "### Dictionary"
   ]
  },
  {
   "cell_type": "markdown",
   "id": "2e767f29",
   "metadata": {},
   "source": [
    "#### Consider the following structure and observe "
   ]
  },
  {
   "cell_type": "markdown",
   "id": "a5c0b3b4",
   "metadata": {},
   "source": [
    "#### consider the following structure and observe."
   ]
  },
  {
   "cell_type": "code",
   "execution_count": 2,
   "id": "0a451caa",
   "metadata": {},
   "outputs": [],
   "source": [
    "fd={'one':'aik','three':'teen','ten':'das','fifteen':'pandra'}"
   ]
  },
  {
   "cell_type": "code",
   "execution_count": 3,
   "id": "cc6ede24",
   "metadata": {},
   "outputs": [
    {
     "data": {
      "text/plain": [
       "{'one': 'aik', 'three': 'teen', 'ten': 'das', 'fifteen': 'pandra'}"
      ]
     },
     "execution_count": 3,
     "metadata": {},
     "output_type": "execute_result"
    }
   ],
   "source": [
    "fd"
   ]
  },
  {
   "cell_type": "code",
   "execution_count": 4,
   "id": "81db3898",
   "metadata": {},
   "outputs": [
    {
     "data": {
      "text/plain": [
       "'aik'"
      ]
     },
     "execution_count": 4,
     "metadata": {},
     "output_type": "execute_result"
    }
   ],
   "source": [
    "fd['one']"
   ]
  },
  {
   "cell_type": "code",
   "execution_count": 5,
   "id": "e4c703bd",
   "metadata": {},
   "outputs": [
    {
     "data": {
      "text/plain": [
       "'das'"
      ]
     },
     "execution_count": 5,
     "metadata": {},
     "output_type": "execute_result"
    }
   ],
   "source": [
    "fd['ten']"
   ]
  },
  {
   "cell_type": "code",
   "execution_count": 6,
   "id": "470cb01a",
   "metadata": {},
   "outputs": [
    {
     "name": "stdout",
     "output_type": "stream",
     "text": [
      "{'one': 'aik', 'ten': 'das', 'fifteen': 'pandra'}\n"
     ]
    }
   ],
   "source": [
    "del fd['three']\n",
    "print(fd)"
   ]
  },
  {
   "cell_type": "code",
   "execution_count": 7,
   "id": "55ca9215",
   "metadata": {},
   "outputs": [
    {
     "data": {
      "text/plain": [
       "3"
      ]
     },
     "execution_count": 7,
     "metadata": {},
     "output_type": "execute_result"
    }
   ],
   "source": [
    "len(fd)"
   ]
  },
  {
   "cell_type": "code",
   "execution_count": 9,
   "id": "630dcdfa",
   "metadata": {},
   "outputs": [
    {
     "data": {
      "text/plain": [
       "dict_keys(['one', 'ten', 'fifteen'])"
      ]
     },
     "execution_count": 9,
     "metadata": {},
     "output_type": "execute_result"
    }
   ],
   "source": [
    "fd.keys()"
   ]
  },
  {
   "cell_type": "code",
   "execution_count": 11,
   "id": "5df3430a",
   "metadata": {},
   "outputs": [
    {
     "data": {
      "text/plain": [
       "dict_values(['aik', 'das', 'pandra'])"
      ]
     },
     "execution_count": 11,
     "metadata": {},
     "output_type": "execute_result"
    }
   ],
   "source": [
    "fd.values()"
   ]
  },
  {
   "cell_type": "code",
   "execution_count": 12,
   "id": "4efa0b30",
   "metadata": {},
   "outputs": [
    {
     "data": {
      "text/plain": [
       "dict_items([('one', 'aik'), ('ten', 'das'), ('fifteen', 'pandra')])"
      ]
     },
     "execution_count": 12,
     "metadata": {},
     "output_type": "execute_result"
    }
   ],
   "source": [
    "fd.items()"
   ]
  },
  {
   "cell_type": "code",
   "execution_count": 16,
   "id": "9168abb4",
   "metadata": {},
   "outputs": [
    {
     "data": {
      "text/plain": [
       "True"
      ]
     },
     "execution_count": 16,
     "metadata": {},
     "output_type": "execute_result"
    }
   ],
   "source": [
    "'one'in fd"
   ]
  },
  {
   "cell_type": "code",
   "execution_count": 17,
   "id": "3c9ac6d7",
   "metadata": {},
   "outputs": [
    {
     "data": {
      "text/plain": [
       "False"
      ]
     },
     "execution_count": 17,
     "metadata": {},
     "output_type": "execute_result"
    }
   ],
   "source": [
    "'two' in fd"
   ]
  },
  {
   "cell_type": "code",
   "execution_count": 23,
   "id": "860d8f94",
   "metadata": {},
   "outputs": [],
   "source": [
    "M=fd.copy()"
   ]
  },
  {
   "cell_type": "code",
   "execution_count": 24,
   "id": "6d5cb76c",
   "metadata": {},
   "outputs": [
    {
     "name": "stdout",
     "output_type": "stream",
     "text": [
      "{'one': 'aik', 'ten': 'das', 'fifteen': 'pandra'}\n"
     ]
    }
   ],
   "source": [
    "print(M)"
   ]
  },
  {
   "cell_type": "code",
   "execution_count": 25,
   "id": "f68a59dd",
   "metadata": {},
   "outputs": [],
   "source": [
    "Alias=fd"
   ]
  },
  {
   "cell_type": "code",
   "execution_count": 28,
   "id": "a756d85f",
   "metadata": {},
   "outputs": [],
   "source": [
    "Alias['three']='3'"
   ]
  },
  {
   "cell_type": "code",
   "execution_count": 29,
   "id": "0407058e",
   "metadata": {},
   "outputs": [
    {
     "data": {
      "text/plain": [
       "{'one': 'aik', 'ten': 'das', 'fifteen': 'pandra', 'three': '3'}"
      ]
     },
     "execution_count": 29,
     "metadata": {},
     "output_type": "execute_result"
    }
   ],
   "source": [
    "Alias"
   ]
  },
  {
   "cell_type": "code",
   "execution_count": 36,
   "id": "ccf2c8be",
   "metadata": {},
   "outputs": [],
   "source": [
    "N=copy['three']='3'"
   ]
  },
  {
   "cell_type": "code",
   "execution_count": 37,
   "id": "35837a48",
   "metadata": {},
   "outputs": [
    {
     "data": {
      "text/plain": [
       "'3'"
      ]
     },
     "execution_count": 37,
     "metadata": {},
     "output_type": "execute_result"
    }
   ],
   "source": [
    "N"
   ]
  },
  {
   "cell_type": "markdown",
   "id": "bedf0b4f",
   "metadata": {},
   "source": [
    "#### Make the appropriate dictionary and use the following buit-in function."
   ]
  },
  {
   "cell_type": "code",
   "execution_count": 40,
   "id": "ed37a485",
   "metadata": {},
   "outputs": [],
   "source": [
    "Things={'planet':'Earth','Star':'Sun','Galaxy':'Milky Way'}"
   ]
  },
  {
   "cell_type": "code",
   "execution_count": 44,
   "id": "1a23e8ee",
   "metadata": {},
   "outputs": [
    {
     "data": {
      "text/plain": [
       "dict_values(['Earth', 'Sun', 'Milky Way'])"
      ]
     },
     "execution_count": 44,
     "metadata": {},
     "output_type": "execute_result"
    }
   ],
   "source": [
    "Things.values()"
   ]
  },
  {
   "cell_type": "code",
   "execution_count": 45,
   "id": "3b2aa03c",
   "metadata": {},
   "outputs": [
    {
     "data": {
      "text/plain": [
       "dict_keys(['planet', 'Star', 'Galaxy'])"
      ]
     },
     "execution_count": 45,
     "metadata": {},
     "output_type": "execute_result"
    }
   ],
   "source": [
    "Things.keys()"
   ]
  },
  {
   "cell_type": "code",
   "execution_count": 46,
   "id": "d0b8cfa4",
   "metadata": {},
   "outputs": [
    {
     "data": {
      "text/plain": [
       "dict_items([('planet', 'Earth'), ('Star', 'Sun'), ('Galaxy', 'Milky Way')])"
      ]
     },
     "execution_count": 46,
     "metadata": {},
     "output_type": "execute_result"
    }
   ],
   "source": [
    "Things.items()"
   ]
  },
  {
   "cell_type": "code",
   "execution_count": 49,
   "id": "c337b20a",
   "metadata": {},
   "outputs": [
    {
     "data": {
      "text/plain": [
       "'Sun'"
      ]
     },
     "execution_count": 49,
     "metadata": {},
     "output_type": "execute_result"
    }
   ],
   "source": [
    "Things.get('Star')"
   ]
  },
  {
   "cell_type": "code",
   "execution_count": 50,
   "id": "63ab9c68",
   "metadata": {},
   "outputs": [],
   "source": [
    "Things.clear()"
   ]
  },
  {
   "cell_type": "code",
   "execution_count": 51,
   "id": "117d76cd",
   "metadata": {},
   "outputs": [
    {
     "data": {
      "text/plain": [
       "{}"
      ]
     },
     "execution_count": 51,
     "metadata": {},
     "output_type": "execute_result"
    }
   ],
   "source": [
    "Things"
   ]
  },
  {
   "cell_type": "markdown",
   "id": "dc9f2adf",
   "metadata": {},
   "source": [
    "### List Comprehensions:"
   ]
  },
  {
   "cell_type": "markdown",
   "id": "ebda8a0a",
   "metadata": {},
   "source": [
    "#### Consider the following code and print the square."
   ]
  },
  {
   "cell_type": "code",
   "execution_count": 60,
   "id": "0b2dfefa",
   "metadata": {},
   "outputs": [],
   "source": [
    "sqrs=[]\n",
    "for x in range(10):\n",
    "    squares.append(x*x)\n"
   ]
  },
  {
   "cell_type": "code",
   "execution_count": 61,
   "id": "c6e53805",
   "metadata": {},
   "outputs": [],
   "source": [
    "sqr=[x*x for x in range(10)]"
   ]
  },
  {
   "cell_type": "code",
   "execution_count": 62,
   "id": "89ce72bb",
   "metadata": {},
   "outputs": [
    {
     "name": "stdout",
     "output_type": "stream",
     "text": [
      "[0, 1, 4, 9, 16, 25, 36, 49, 64, 81]\n"
     ]
    }
   ],
   "source": [
    "print(sqr)"
   ]
  },
  {
   "cell_type": "code",
   "execution_count": 63,
   "id": "c229f255",
   "metadata": {},
   "outputs": [],
   "source": [
    "even_sqrs=[x*x for x in range (10) if x %2==0]"
   ]
  },
  {
   "cell_type": "code",
   "execution_count": 64,
   "id": "70e30f56",
   "metadata": {},
   "outputs": [
    {
     "name": "stdout",
     "output_type": "stream",
     "text": [
      "[0, 4, 16, 36, 64]\n"
     ]
    }
   ],
   "source": [
    "print(even_sqrs)"
   ]
  },
  {
   "cell_type": "markdown",
   "id": "4ba3a8f3",
   "metadata": {},
   "source": [
    "### Dictionary Comprehension"
   ]
  },
  {
   "cell_type": "code",
   "execution_count": 72,
   "id": "69e4174c",
   "metadata": {},
   "outputs": [
    {
     "name": "stdout",
     "output_type": "stream",
     "text": [
      "{0: 0, 1: 1, 2: 4, 3: 9, 4: 16}\n"
     ]
    }
   ],
   "source": [
    "doc={x:x*x for x in range(5)}\n",
    "print(doc)"
   ]
  },
  {
   "cell_type": "code",
   "execution_count": null,
   "id": "e15f169b",
   "metadata": {},
   "outputs": [],
   "source": []
  }
 ],
 "metadata": {
  "kernelspec": {
   "display_name": "Python 3 (ipykernel)",
   "language": "python",
   "name": "python3"
  },
  "language_info": {
   "codemirror_mode": {
    "name": "ipython",
    "version": 3
   },
   "file_extension": ".py",
   "mimetype": "text/x-python",
   "name": "python",
   "nbconvert_exporter": "python",
   "pygments_lexer": "ipython3",
   "version": "3.7.1"
  }
 },
 "nbformat": 4,
 "nbformat_minor": 5
}
