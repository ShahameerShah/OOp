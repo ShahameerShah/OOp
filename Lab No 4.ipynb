{
 "cells": [
  {
   "cell_type": "markdown",
   "id": "f893d474-8819-4b0e-9f75-a19bd1e6444e",
   "metadata": {},
   "source": [
    "# Lab work Task "
   ]
  },
  {
   "cell_type": "markdown",
   "id": "892c649a-c063-458e-aa53-0d9e1e3a382d",
   "metadata": {},
   "source": [
    "### 1. Motivation  Interest is to make a list that can store employee data.  [name, age, position, the year they started working] "
   ]
  },
  {
   "cell_type": "code",
   "execution_count": 1,
   "id": "54bc7db0-2a56-4d4f-9dc6-f3dfc478e958",
   "metadata": {},
   "outputs": [],
   "source": [
    "Employee_A =[\"Syed\",21,\"Senior Engineer\",2024]"
   ]
  },
  {
   "cell_type": "code",
   "execution_count": 2,
   "id": "47eebd4f-edbe-4b90-bc00-020969ad86c0",
   "metadata": {},
   "outputs": [],
   "source": [
    "Employee_B =[\"Khayyam\",22,\"junior Engineer\",2023]"
   ]
  },
  {
   "cell_type": "code",
   "execution_count": 3,
   "id": "72d3143d-a419-4348-b806-2501dc450aeb",
   "metadata": {},
   "outputs": [],
   "source": [
    "Employee_C =[\"Fawad\",20,\"General Manager\",2025]"
   ]
  },
  {
   "cell_type": "code",
   "execution_count": 4,
   "id": "59179361-8d20-4ba9-9774-83ed8d767fa6",
   "metadata": {},
   "outputs": [
    {
     "name": "stdout",
     "output_type": "stream",
     "text": [
      "junior Engineer\n"
     ]
    }
   ],
   "source": [
    "print(Employee_B[2])"
   ]
  },
  {
   "cell_type": "code",
   "execution_count": 5,
   "id": "5db9c1cb-4a78-400e-8043-0cfe74fd6a04",
   "metadata": {},
   "outputs": [
    {
     "name": "stdout",
     "output_type": "stream",
     "text": [
      "20\n"
     ]
    }
   ],
   "source": [
    "print(Employee_C[1])"
   ]
  },
  {
   "cell_type": "markdown",
   "id": "5c4a0add-d347-4d68-8aa8-c4dfea803b7a",
   "metadata": {},
   "source": [
    "## 2. Dog class "
   ]
  },
  {
   "cell_type": "code",
   "execution_count": 26,
   "id": "86f5e2a4-49bd-4ba1-89ed-100fd2613664",
   "metadata": {},
   "outputs": [],
   "source": [
    "class Dog:\n",
    "    pass"
   ]
  },
  {
   "cell_type": "markdown",
   "id": "8afe3bbe-7761-406b-a78e-aa86d6d08f55",
   "metadata": {},
   "source": [
    "## a. Dog() This can be assigned to a variable. "
   ]
  },
  {
   "cell_type": "code",
   "execution_count": 27,
   "id": "2d3a90b1-a55d-4bf1-a54b-3a955200e51c",
   "metadata": {
    "scrolled": true
   },
   "outputs": [
    {
     "data": {
      "text/plain": [
       "<__main__.Dog at 0x278b1e17760>"
      ]
     },
     "execution_count": 27,
     "metadata": {},
     "output_type": "execute_result"
    }
   ],
   "source": [
    "Dog()"
   ]
  },
  {
   "cell_type": "markdown",
   "id": "98b4c4ad-007e-4ce3-858c-8036b1e06f10",
   "metadata": {},
   "source": [
    "## b. Inst=Dog() "
   ]
  },
  {
   "cell_type": "code",
   "execution_count": 28,
   "id": "04a02e07-7629-4267-a5b7-330f3483ec4f",
   "metadata": {},
   "outputs": [],
   "source": [
    "Inst=Dog()"
   ]
  },
  {
   "cell_type": "markdown",
   "id": "0f9b2387-abb4-49c4-97e7-fe863e6926e2",
   "metadata": {},
   "source": [
    "## c. Create two new Dog objects and assign them to the variables a and b. "
   ]
  },
  {
   "cell_type": "code",
   "execution_count": 29,
   "id": "2976579c-5f10-4a55-b03f-9ef422ec5fe6",
   "metadata": {},
   "outputs": [],
   "source": [
    "a = Dog()\n",
    "b = Dog()"
   ]
  },
  {
   "cell_type": "markdown",
   "id": "1c1cb5cd-74e2-4394-b69a-7867532033c1",
   "metadata": {},
   "source": [
    "## d. When you compare a and b using the == operator, the result is False. Even though a and b are both instances of the Dog class, they represent two distinct objects in memory. a == b"
   ]
  },
  {
   "cell_type": "code",
   "execution_count": 31,
   "id": "c21ddacb-5102-4381-a227-c5d1fc3b92bb",
   "metadata": {},
   "outputs": [
    {
     "data": {
      "text/plain": [
       "False"
      ]
     },
     "execution_count": 31,
     "metadata": {},
     "output_type": "execute_result"
    }
   ],
   "source": [
    "a==b"
   ]
  },
  {
   "cell_type": "markdown",
   "id": "59e2fcf7-667f-41c0-9318-61edfbe70d37",
   "metadata": {},
   "source": [
    "## e. Use the print command and print both instances/ objects. "
   ]
  },
  {
   "cell_type": "code",
   "execution_count": 32,
   "id": "324dc425-82e2-4afe-aaf1-9c6863a76faa",
   "metadata": {},
   "outputs": [
    {
     "name": "stdout",
     "output_type": "stream",
     "text": [
      "<__main__.Dog object at 0x00000278B096AF40>\n"
     ]
    }
   ],
   "source": [
    "print(a)"
   ]
  },
  {
   "cell_type": "code",
   "execution_count": 33,
   "id": "68107dd7-bb1d-4672-961c-ddffd84ba2d4",
   "metadata": {},
   "outputs": [
    {
     "name": "stdout",
     "output_type": "stream",
     "text": [
      "<__main__.Dog object at 0x00000278B09A8FD0>\n"
     ]
    }
   ],
   "source": [
    "print(b)"
   ]
  },
  {
   "cell_type": "code",
   "execution_count": 34,
   "id": "c35ede37-b3c8-43b6-b3d0-f9e20c423ac1",
   "metadata": {},
   "outputs": [
    {
     "name": "stdout",
     "output_type": "stream",
     "text": [
      "<__main__.Dog object at 0x00000278B0BA06A0>\n"
     ]
    }
   ],
   "source": [
    "print(Dog())"
   ]
  },
  {
   "cell_type": "markdown",
   "id": "67938c70-7e33-4dca-8b4e-408337a12eff",
   "metadata": {},
   "source": [
    "## 3. Following is a class named MyFirstClass.  "
   ]
  },
  {
   "cell_type": "code",
   "execution_count": 2,
   "id": "7816fac6-3cbb-43f9-a911-de87156127b6",
   "metadata": {},
   "outputs": [],
   "source": [
    "class MyFirstClass:\n",
    "    pass"
   ]
  },
  {
   "cell_type": "markdown",
   "id": "e6abeca8-a2ed-41c9-9a5c-2d5286e163af",
   "metadata": {},
   "source": [
    "## a. Make two instances named FC1 and FC2."
   ]
  },
  {
   "cell_type": "code",
   "execution_count": 3,
   "id": "5493310e-549a-4e75-9858-53a8f2a64109",
   "metadata": {},
   "outputs": [],
   "source": [
    "FC1=MyFirstClass()"
   ]
  },
  {
   "cell_type": "code",
   "execution_count": 4,
   "id": "887540d8-ca2f-440e-b249-dae31f0e3eaa",
   "metadata": {},
   "outputs": [],
   "source": [
    "FC2=MyFirstClass()"
   ]
  },
  {
   "cell_type": "markdown",
   "id": "4032a568-1bb4-4494-a8a4-d9c3912be63c",
   "metadata": {},
   "source": [
    "## b. Check whether FC1 and FC2 represent the same object or not.  "
   ]
  },
  {
   "cell_type": "code",
   "execution_count": 5,
   "id": "bf700ea6-2e89-4ab9-b0bd-fe40540b28e7",
   "metadata": {},
   "outputs": [
    {
     "data": {
      "text/plain": [
       "True"
      ]
     },
     "execution_count": 5,
     "metadata": {},
     "output_type": "execute_result"
    }
   ],
   "source": [
    "FC1==FC1"
   ]
  },
  {
   "cell_type": "markdown",
   "id": "15b7db51-968c-43f8-a9d8-39a99c30e9f0",
   "metadata": {},
   "source": [
    "## c. Use the print command and print both instances.  "
   ]
  },
  {
   "cell_type": "code",
   "execution_count": 45,
   "id": "8b84f0c9-6bac-4ff0-92fc-7ff3f9eab3f1",
   "metadata": {},
   "outputs": [
    {
     "name": "stdout",
     "output_type": "stream",
     "text": [
      "<__main__.MyFirstClass object at 0x00000278B1D92340>\n"
     ]
    }
   ],
   "source": [
    "print(FC1)"
   ]
  },
  {
   "cell_type": "code",
   "execution_count": 6,
   "id": "257ba811-3c7d-4dae-81b2-0ca6efcf6df6",
   "metadata": {},
   "outputs": [
    {
     "name": "stdout",
     "output_type": "stream",
     "text": [
      "<__main__.MyFirstClass object at 0x000002CEDD8184A8>\n"
     ]
    }
   ],
   "source": [
    "print(FC2)"
   ]
  },
  {
   "cell_type": "markdown",
   "id": "41c894d5-d45e-4b80-9d82-326c34f71cbc",
   "metadata": {},
   "source": [
    "## 4. Consider the following class definition.  "
   ]
  },
  {
   "cell_type": "code",
   "execution_count": 49,
   "id": "62bc93e4-fdfd-49bb-aaee-c23a7bcc8d8d",
   "metadata": {},
   "outputs": [],
   "source": [
    "class Point:\n",
    "    pass"
   ]
  },
  {
   "cell_type": "markdown",
   "id": "516487f9-fb54-4536-89d8-1d0ff5f1de47",
   "metadata": {},
   "source": [
    "## a. Make two instances named p1 and p2. "
   ]
  },
  {
   "cell_type": "code",
   "execution_count": 52,
   "id": "0bb1a9cc-3fb8-4a0b-b030-be6378c75607",
   "metadata": {},
   "outputs": [],
   "source": [
    "p1=Point()"
   ]
  },
  {
   "cell_type": "code",
   "execution_count": 53,
   "id": "7ed98e4a-a2d9-42f1-84d9-f0ea93fcf449",
   "metadata": {},
   "outputs": [],
   "source": [
    "p2=Point()"
   ]
  },
  {
   "cell_type": "markdown",
   "id": "2dd09e8b-3bd7-45fc-b319-a849eb02dff3",
   "metadata": {},
   "source": [
    "## b. Print both objects p1 and p2.  "
   ]
  },
  {
   "cell_type": "code",
   "execution_count": 54,
   "id": "3d245ee3-2e83-496e-8d9f-15f99859a0de",
   "metadata": {},
   "outputs": [
    {
     "name": "stdout",
     "output_type": "stream",
     "text": [
      "<__main__.Point object at 0x00000278B0BAD310>\n"
     ]
    }
   ],
   "source": [
    "print(p1)"
   ]
  },
  {
   "cell_type": "code",
   "execution_count": 55,
   "id": "747a1873-3982-46f7-9c29-42ffaabc0dee",
   "metadata": {},
   "outputs": [
    {
     "name": "stdout",
     "output_type": "stream",
     "text": [
      "<__main__.Point object at 0x00000278B0BAD490>\n"
     ]
    }
   ],
   "source": [
    "print(p2)"
   ]
  },
  {
   "cell_type": "markdown",
   "id": "85ca82ee-a38a-4170-8c75-a34d062d89a4",
   "metadata": {},
   "source": [
    "## c. Try different names for objects, instead of p1 and p2. Also, use different attribute names.  "
   ]
  },
  {
   "cell_type": "code",
   "execution_count": 57,
   "id": "2ea36a6f-f808-48e1-8988-2c6a7df14702",
   "metadata": {},
   "outputs": [],
   "source": [
    "F1=Point()"
   ]
  },
  {
   "cell_type": "code",
   "execution_count": 58,
   "id": "5d637b4f-68f5-47e7-9eec-07d85ff9973c",
   "metadata": {},
   "outputs": [],
   "source": [
    "F2=Point()"
   ]
  },
  {
   "cell_type": "code",
   "execution_count": 59,
   "id": "e062c63f-89e3-44fa-a641-eaf4b778667b",
   "metadata": {},
   "outputs": [
    {
     "name": "stdout",
     "output_type": "stream",
     "text": [
      "<__main__.Point object at 0x00000278B1E178E0>\n"
     ]
    }
   ],
   "source": [
    "print(F1)"
   ]
  },
  {
   "cell_type": "code",
   "execution_count": 60,
   "id": "363532a7-3b1d-46ef-9bb9-7b802983fb3b",
   "metadata": {},
   "outputs": [
    {
     "name": "stdout",
     "output_type": "stream",
     "text": [
      "<__main__.Point object at 0x00000278B0BAD220>\n"
     ]
    }
   ],
   "source": [
    "print(F2)"
   ]
  },
  {
   "cell_type": "markdown",
   "id": "3973a7d5-7fbc-444b-8b82-469bf7a5b0be",
   "metadata": {},
   "source": [
    "## 5. Update the Dog class with an __init__() method that creates .name and .age attributes:"
   ]
  },
  {
   "cell_type": "code",
   "execution_count": 62,
   "id": "6643884b-6c32-4d0b-abc3-75c8514058c0",
   "metadata": {},
   "outputs": [],
   "source": [
    "class Dog():\n",
    "    pass"
   ]
  },
  {
   "cell_type": "code",
   "execution_count": 7,
   "id": "aa6fb61a-7f5a-4049-9806-fd4f17bfd438",
   "metadata": {},
   "outputs": [],
   "source": [
    "class Dog():\n",
    "    def __init__(self,name,age):\n",
    "        self.name=name\n",
    "        self.age=age"
   ]
  },
  {
   "cell_type": "markdown",
   "id": "cd4cf70b-926b-4293-8cb2-21df3a4e2b98",
   "metadata": {},
   "source": [
    "## a. Run: miles = Dog(\"Miles\", 4) "
   ]
  },
  {
   "cell_type": "code",
   "execution_count": 66,
   "id": "c34afddd-5662-40b3-a81b-0d58ebafac5a",
   "metadata": {},
   "outputs": [],
   "source": [
    "miles = Dog(\"Miles\",4)"
   ]
  },
  {
   "cell_type": "markdown",
   "id": "33c34527-14ed-4833-ac03-059a2445aa86",
   "metadata": {},
   "source": [
    "## b. Print miles"
   ]
  },
  {
   "cell_type": "code",
   "execution_count": 67,
   "id": "8c9c93d2-d193-4eba-aefb-7e1702a7fa09",
   "metadata": {},
   "outputs": [
    {
     "name": "stdout",
     "output_type": "stream",
     "text": [
      "<__main__.Dog object at 0x00000278B1D5A070>\n"
     ]
    }
   ],
   "source": [
    "print(miles)"
   ]
  },
  {
   "cell_type": "markdown",
   "id": "b497d790-b304-444d-b05a-a43885009f7d",
   "metadata": {},
   "source": [
    "## 6. Create a new Dog class with a class attribute called. species and two instance attributes called .name and .age:"
   ]
  },
  {
   "cell_type": "code",
   "execution_count": 75,
   "id": "05407a1f-c384-4ec6-afa1-60480ea62a5a",
   "metadata": {},
   "outputs": [],
   "source": [
    "class Dog: \n",
    "    species = \"Canis familiaris\" \n",
    "    def __init__(self, name, age): \n",
    "        self.name = name \n",
    "        self.age = age "
   ]
  },
  {
   "cell_type": "markdown",
   "id": "ca8c6d0d-fe85-4d96-87e3-94e2ac55a5b6",
   "metadata": {},
   "source": [
    "## a. To instantiate this Dog class, you need to provide values for name and age. If you don’t, then Python raises a TypeError:"
   ]
  },
  {
   "cell_type": "markdown",
   "id": "56f3f322-a783-42c5-b0eb-b5bda93e84de",
   "metadata": {},
   "source": [
    "Dog()"
   ]
  },
  {
   "cell_type": "markdown",
   "id": "b89227b1-7556-4717-bbe2-610dcdc22e98",
   "metadata": {},
   "source": [
    "## b. To pass arguments to the name and age parameters, put values into the parentheses after the class name: "
   ]
  },
  {
   "cell_type": "code",
   "execution_count": 77,
   "id": "ec13a027-2a3a-4be7-b25c-c487c800f2f0",
   "metadata": {},
   "outputs": [],
   "source": [
    "miles =Dog(\"miles\",4)"
   ]
  },
  {
   "cell_type": "code",
   "execution_count": 78,
   "id": "e41b1335-772e-4acb-afe8-d46d81a95c6b",
   "metadata": {},
   "outputs": [],
   "source": [
    "buddy =Dog(\"buddy\",5)"
   ]
  },
  {
   "cell_type": "markdown",
   "id": "03eb9469-f1dc-4263-b848-8c5716587eee",
   "metadata": {},
   "source": [
    "## c. After you create the Dog instances, you can access their instance attributes using dot notation:"
   ]
  },
  {
   "cell_type": "code",
   "execution_count": 81,
   "id": "ff62ed8d-f50c-45a5-8745-9f52a025c43f",
   "metadata": {},
   "outputs": [
    {
     "data": {
      "text/plain": [
       "'miles'"
      ]
     },
     "execution_count": 81,
     "metadata": {},
     "output_type": "execute_result"
    }
   ],
   "source": [
    "miles.name"
   ]
  },
  {
   "cell_type": "code",
   "execution_count": 83,
   "id": "7d2f2d99-4998-4df7-ade5-a93260760daf",
   "metadata": {},
   "outputs": [
    {
     "data": {
      "text/plain": [
       "4"
      ]
     },
     "execution_count": 83,
     "metadata": {},
     "output_type": "execute_result"
    }
   ],
   "source": [
    "miles.age"
   ]
  },
  {
   "cell_type": "code",
   "execution_count": 84,
   "id": "eb970341-694d-4129-86ac-8c50320c98dc",
   "metadata": {},
   "outputs": [
    {
     "data": {
      "text/plain": [
       "'buddy'"
      ]
     },
     "execution_count": 84,
     "metadata": {},
     "output_type": "execute_result"
    }
   ],
   "source": [
    "buddy.name"
   ]
  },
  {
   "cell_type": "code",
   "execution_count": 85,
   "id": "6f6625b2-dd6e-410c-ad09-cfb5daf13205",
   "metadata": {},
   "outputs": [
    {
     "data": {
      "text/plain": [
       "5"
      ]
     },
     "execution_count": 85,
     "metadata": {},
     "output_type": "execute_result"
    }
   ],
   "source": [
    "buddy.age"
   ]
  },
  {
   "cell_type": "markdown",
   "id": "b9044c19-451c-419b-b9de-2eb8bc48e175",
   "metadata": {},
   "source": [
    "## d. Although the attributes are guaranteed to exist, their values can change dynamically:"
   ]
  },
  {
   "cell_type": "code",
   "execution_count": 88,
   "id": "45b6c371-8db1-4506-a7eb-f2aebeb5f70d",
   "metadata": {},
   "outputs": [],
   "source": [
    "buddy.name=\"tommy\""
   ]
  },
  {
   "cell_type": "code",
   "execution_count": 89,
   "id": "41f6ee31-abc1-443c-8167-f4e4c0efec4c",
   "metadata": {},
   "outputs": [
    {
     "data": {
      "text/plain": [
       "'tommy'"
      ]
     },
     "execution_count": 89,
     "metadata": {},
     "output_type": "execute_result"
    }
   ],
   "source": [
    "buddy.name"
   ]
  },
  {
   "cell_type": "code",
   "execution_count": 90,
   "id": "be13ad63-aab3-4d95-980b-2b4019fef2e4",
   "metadata": {},
   "outputs": [],
   "source": [
    "buddy.age=10"
   ]
  },
  {
   "cell_type": "code",
   "execution_count": 91,
   "id": "4a50899a-e419-439c-b4ed-72667cf103e2",
   "metadata": {},
   "outputs": [
    {
     "data": {
      "text/plain": [
       "10"
      ]
     },
     "execution_count": 91,
     "metadata": {},
     "output_type": "execute_result"
    }
   ],
   "source": [
    "buddy.age"
   ]
  },
  {
   "cell_type": "markdown",
   "id": "c78bb221-b2c2-4fb9-ab8b-c69434cdb03f",
   "metadata": {},
   "source": [
    "#### 7. Define a class point in 2 dimension coordinate system. Your class must have the appropriate __init__ method. In addition, add two other instance methods for the distance between points and also show or display the point properly (note: return tuple like (x, y)). Add another method with the name locate to display the coordinate in which the point is located. Add proper annotation and doc string to every class and instance method.  "
   ]
  },
  {
   "cell_type": "code",
   "execution_count": 6,
   "id": "c7a2b3cc-129d-4d93-a4c6-a12612fa61e7",
   "metadata": {},
   "outputs": [
    {
     "ename": "TypeError",
     "evalue": "'type' object is not subscriptable",
     "output_type": "error",
     "traceback": [
      "\u001b[1;31m---------------------------------------------------------------------------\u001b[0m",
      "\u001b[1;31mTypeError\u001b[0m                                 Traceback (most recent call last)",
      "\u001b[1;32m~\\AppData\\Local\\Temp\\ipykernel_8464\\2090580024.py\u001b[0m in \u001b[0;36m<module>\u001b[1;34m\u001b[0m\n\u001b[0;32m      1\u001b[0m \u001b[1;32mimport\u001b[0m \u001b[0mmath\u001b[0m\u001b[1;33m\u001b[0m\u001b[1;33m\u001b[0m\u001b[0m\n\u001b[0;32m      2\u001b[0m \u001b[1;33m\u001b[0m\u001b[0m\n\u001b[1;32m----> 3\u001b[1;33m \u001b[1;32mclass\u001b[0m \u001b[0mPoint\u001b[0m\u001b[1;33m:\u001b[0m\u001b[1;33m\u001b[0m\u001b[1;33m\u001b[0m\u001b[0m\n\u001b[0m\u001b[0;32m      4\u001b[0m     \"\"\"\n\u001b[0;32m      5\u001b[0m     \u001b[0mRepresents\u001b[0m \u001b[0ma\u001b[0m \u001b[0mpoint\u001b[0m \u001b[1;32min\u001b[0m \u001b[0ma\u001b[0m \u001b[1;36m2\u001b[0m\u001b[1;33m-\u001b[0m\u001b[0mdimensional\u001b[0m \u001b[0mcoordinate\u001b[0m \u001b[0msystem\u001b[0m\u001b[1;33m.\u001b[0m\u001b[1;33m\u001b[0m\u001b[1;33m\u001b[0m\u001b[0m\n",
      "\u001b[1;32m~\\AppData\\Local\\Temp\\ipykernel_8464\\2090580024.py\u001b[0m in \u001b[0;36mPoint\u001b[1;34m()\u001b[0m\n\u001b[0;32m     29\u001b[0m         \u001b[1;32mreturn\u001b[0m \u001b[0mmath\u001b[0m\u001b[1;33m.\u001b[0m\u001b[0msqrt\u001b[0m\u001b[1;33m(\u001b[0m\u001b[1;33m(\u001b[0m\u001b[0mself\u001b[0m\u001b[1;33m.\u001b[0m\u001b[0mx\u001b[0m \u001b[1;33m-\u001b[0m \u001b[0mother\u001b[0m\u001b[1;33m.\u001b[0m\u001b[0mx\u001b[0m\u001b[1;33m)\u001b[0m \u001b[1;33m**\u001b[0m \u001b[1;36m2\u001b[0m \u001b[1;33m+\u001b[0m \u001b[1;33m(\u001b[0m\u001b[0mself\u001b[0m\u001b[1;33m.\u001b[0m\u001b[0my\u001b[0m \u001b[1;33m-\u001b[0m \u001b[0mother\u001b[0m\u001b[1;33m.\u001b[0m\u001b[0my\u001b[0m\u001b[1;33m)\u001b[0m \u001b[1;33m**\u001b[0m \u001b[1;36m2\u001b[0m\u001b[1;33m)\u001b[0m\u001b[1;33m\u001b[0m\u001b[1;33m\u001b[0m\u001b[0m\n\u001b[0;32m     30\u001b[0m \u001b[1;33m\u001b[0m\u001b[0m\n\u001b[1;32m---> 31\u001b[1;33m     \u001b[1;32mdef\u001b[0m \u001b[0mshow\u001b[0m\u001b[1;33m(\u001b[0m\u001b[0mself\u001b[0m\u001b[1;33m)\u001b[0m \u001b[1;33m->\u001b[0m \u001b[0mtuple\u001b[0m\u001b[1;33m[\u001b[0m\u001b[0mfloat\u001b[0m\u001b[1;33m,\u001b[0m \u001b[0mfloat\u001b[0m\u001b[1;33m]\u001b[0m\u001b[1;33m:\u001b[0m\u001b[1;33m\u001b[0m\u001b[1;33m\u001b[0m\u001b[0m\n\u001b[0m\u001b[0;32m     32\u001b[0m         \"\"\"\n\u001b[0;32m     33\u001b[0m         \u001b[0mReturns\u001b[0m \u001b[0mthe\u001b[0m \u001b[0mcoordinates\u001b[0m \u001b[0mof\u001b[0m \u001b[0mthe\u001b[0m \u001b[0mpoint\u001b[0m \u001b[1;32mas\u001b[0m \u001b[0ma\u001b[0m \u001b[0mtuple\u001b[0m\u001b[1;33m.\u001b[0m\u001b[1;33m\u001b[0m\u001b[1;33m\u001b[0m\u001b[0m\n",
      "\u001b[1;31mTypeError\u001b[0m: 'type' object is not subscriptable"
     ]
    }
   ],
   "source": [
    "import math\n",
    "\n",
    "class Point:\n",
    "    \"\"\"\n",
    "    Represents a point in a 2-dimensional coordinate system.\n",
    "    \"\"\"\n",
    "\n",
    "    def __init__(self, x: float, y: float) -> None:\n",
    "        \"\"\"\n",
    "        Initializes a point with x and y coordinates.\n",
    "\n",
    "        Args:\n",
    "            x (float): The x-coordinate of the point.\n",
    "            y (float): The y-coordinate of the point.\n",
    "        \"\"\"\n",
    "        self.x = x\n",
    "        self.y = y\n",
    "\n",
    "    def distance(self, other: \"Point\") -> float:\n",
    "        \"\"\"\n",
    "        Calculates the Euclidean distance between this point and another point.\n",
    "\n",
    "        Args:\n",
    "            other (Point): Another point to calculate the distance to.\n",
    "\n",
    "        Returns:\n",
    "            float: The distance between the two points.\n",
    "        \"\"\"\n",
    "        return math.sqrt((self.x - other.x) ** 2 + (self.y - other.y) ** 2)\n",
    "\n",
    "    def show(self) -> tuple[float, float]:\n",
    "        \"\"\"\n",
    "        Returns the coordinates of the point as a tuple.\n",
    "\n",
    "        Returns:\n",
    "            tuple[float, float]: The (x, y) coordinates of the point.\n",
    "        \"\"\"\n",
    "        return (self.x, self.y)\n",
    "\n",
    "    def locate(self) -> str:\n",
    "        \"\"\"\n",
    "        Determines the quadrant or axis where the point is located.\n",
    "\n",
    "        Returns:\n",
    "            str: A description of the location of the point.\n",
    "        \"\"\"\n",
    "        if self.x > 0 and self.y > 0:\n",
    "            return \"First quadrant\"\n",
    "        elif self.x < 0 and self.y > 0:\n",
    "            return \"Second quadrant\"\n",
    "        elif self.x < 0 and self.y < 0:\n",
    "            return \"Third quadrant\"\n",
    "        elif self.x > 0 and self.y < 0:\n",
    "            return \"Fourth quadrant\"\n",
    "        elif self.x == 0 and self.y != 0:\n",
    "            return \"On the y-axis\"\n",
    "        elif self.x != 0 and self.y == 0:\n",
    "            return \"On the x-axis\"\n",
    "        else:\n",
    "            return \"Origin\"\n"
   ]
  },
  {
   "cell_type": "markdown",
   "id": "799a5fbc-efbc-4d9c-9a52-29c43c929090",
   "metadata": {},
   "source": [
    "## a. Define point1 and pass two numbers.  "
   ]
  },
  {
   "cell_type": "code",
   "execution_count": 7,
   "id": "31a919bf-affb-4eaa-a795-032807c2c20f",
   "metadata": {},
   "outputs": [
    {
     "ename": "NameError",
     "evalue": "name 'Point' is not defined",
     "output_type": "error",
     "traceback": [
      "\u001b[1;31m---------------------------------------------------------------------------\u001b[0m",
      "\u001b[1;31mNameError\u001b[0m                                 Traceback (most recent call last)",
      "\u001b[1;32m~\\AppData\\Local\\Temp\\ipykernel_8464\\1726623849.py\u001b[0m in \u001b[0;36m<module>\u001b[1;34m\u001b[0m\n\u001b[1;32m----> 1\u001b[1;33m \u001b[0mp1\u001b[0m \u001b[1;33m=\u001b[0m \u001b[0mPoint\u001b[0m\u001b[1;33m(\u001b[0m\u001b[1;36m2\u001b[0m\u001b[1;33m,\u001b[0m\u001b[1;36m5\u001b[0m\u001b[1;33m)\u001b[0m\u001b[1;33m\u001b[0m\u001b[1;33m\u001b[0m\u001b[0m\n\u001b[0m",
      "\u001b[1;31mNameError\u001b[0m: name 'Point' is not defined"
     ]
    }
   ],
   "source": [
    "p1 = Point(2,5)"
   ]
  },
  {
   "cell_type": "markdown",
   "id": "79302c75-6697-4711-8814-70f7b579032e",
   "metadata": {},
   "source": [
    "## b. Make another instance of the point class, say its name is p2."
   ]
  },
  {
   "cell_type": "code",
   "execution_count": 8,
   "id": "c5dbe6cd-c082-47f7-b23d-694a16d99e23",
   "metadata": {},
   "outputs": [
    {
     "ename": "NameError",
     "evalue": "name 'Point' is not defined",
     "output_type": "error",
     "traceback": [
      "\u001b[1;31m---------------------------------------------------------------------------\u001b[0m",
      "\u001b[1;31mNameError\u001b[0m                                 Traceback (most recent call last)",
      "\u001b[1;32m~\\AppData\\Local\\Temp\\ipykernel_8464\\225024239.py\u001b[0m in \u001b[0;36m<module>\u001b[1;34m\u001b[0m\n\u001b[1;32m----> 1\u001b[1;33m \u001b[0mp2\u001b[0m \u001b[1;33m=\u001b[0m \u001b[0mPoint\u001b[0m\u001b[1;33m(\u001b[0m\u001b[1;33m-\u001b[0m\u001b[1;36m2\u001b[0m\u001b[1;33m,\u001b[0m\u001b[1;33m-\u001b[0m\u001b[1;36m5\u001b[0m\u001b[1;33m)\u001b[0m\u001b[1;33m\u001b[0m\u001b[1;33m\u001b[0m\u001b[0m\n\u001b[0m",
      "\u001b[1;31mNameError\u001b[0m: name 'Point' is not defined"
     ]
    }
   ],
   "source": [
    "p2 = Point(-2,-5)"
   ]
  },
  {
   "cell_type": "markdown",
   "id": "3e49eccc-632d-4389-a0ef-53570e10d88a",
   "metadata": {},
   "source": [
    "## c. Print p1 and p2, for this use the print command and pass the point as input. "
   ]
  },
  {
   "cell_type": "code",
   "execution_count": 9,
   "id": "b307a4a5-6a62-4d67-a6de-f09f639609f4",
   "metadata": {},
   "outputs": [
    {
     "ename": "NameError",
     "evalue": "name 'p1' is not defined",
     "output_type": "error",
     "traceback": [
      "\u001b[1;31m---------------------------------------------------------------------------\u001b[0m",
      "\u001b[1;31mNameError\u001b[0m                                 Traceback (most recent call last)",
      "\u001b[1;32m~\\AppData\\Local\\Temp\\ipykernel_8464\\3719185986.py\u001b[0m in \u001b[0;36m<module>\u001b[1;34m\u001b[0m\n\u001b[1;32m----> 1\u001b[1;33m \u001b[0mprint\u001b[0m\u001b[1;33m(\u001b[0m\u001b[0mp1\u001b[0m\u001b[1;33m)\u001b[0m\u001b[1;33m\u001b[0m\u001b[1;33m\u001b[0m\u001b[0m\n\u001b[0m",
      "\u001b[1;31mNameError\u001b[0m: name 'p1' is not defined"
     ]
    }
   ],
   "source": [
    "print(p1)"
   ]
  },
  {
   "cell_type": "code",
   "execution_count": 110,
   "id": "fbd2e5fe-cbd1-4254-b4fb-9e0153c2dcb0",
   "metadata": {},
   "outputs": [
    {
     "name": "stdout",
     "output_type": "stream",
     "text": [
      "<__main__.Point object at 0x00000278B0BADDC0>\n"
     ]
    }
   ],
   "source": [
    "print(p2)"
   ]
  },
  {
   "cell_type": "markdown",
   "id": "e83e88eb-217a-4a5c-a95a-8e56d42b8d0a",
   "metadata": {},
   "source": [
    "## d. Also print the location of both points. "
   ]
  },
  {
   "cell_type": "code",
   "execution_count": 112,
   "id": "eed63f47-fd11-43a1-955c-8304b16d7e96",
   "metadata": {},
   "outputs": [
    {
     "name": "stdout",
     "output_type": "stream",
     "text": [
      "<__main__.Point object at 0x00000278B0C17AC0>\n"
     ]
    }
   ],
   "source": [
    "print(p1)"
   ]
  },
  {
   "cell_type": "code",
   "execution_count": 113,
   "id": "f7af5d8a-f465-4b43-b985-75d05a0a510c",
   "metadata": {},
   "outputs": [
    {
     "name": "stdout",
     "output_type": "stream",
     "text": [
      "<__main__.Point object at 0x00000278B0BADDC0>\n"
     ]
    }
   ],
   "source": [
    "print(p2)"
   ]
  },
  {
   "cell_type": "markdown",
   "id": "9f96bb77-1f0f-4dd5-afd0-4858af4cc2ac",
   "metadata": {},
   "source": [
    "## e. Print the coordinate by using the object and dot operator. "
   ]
  },
  {
   "cell_type": "code",
   "execution_count": 117,
   "id": "93ebaac8-8194-42bb-98c7-05c0e63dbf4e",
   "metadata": {},
   "outputs": [
    {
     "name": "stdout",
     "output_type": "stream",
     "text": [
      "coordinate of p1: 2 -5\n"
     ]
    }
   ],
   "source": [
    "print(\"coordinate of p1:\",p1.x,p2.y)"
   ]
  },
  {
   "cell_type": "code",
   "execution_count": 118,
   "id": "5cbd04fd-2c22-43f5-8c7a-054aa0a6d719",
   "metadata": {},
   "outputs": [
    {
     "name": "stdout",
     "output_type": "stream",
     "text": [
      "coordinate of p2: -2 -5\n"
     ]
    }
   ],
   "source": [
    "print(\"coordinate of p2:\",p2.x,p2.y)"
   ]
  },
  {
   "cell_type": "markdown",
   "id": "205fc76f-0a58-4513-a6a4-27dbf367f706",
   "metadata": {},
   "source": [
    "## f. Add a new method to the point class to effectively print the points. Print both the point using that function.  "
   ]
  },
  {
   "cell_type": "code",
   "execution_count": null,
   "id": "1a0bc42b-1162-4a15-a3cb-0c5e864889fa",
   "metadata": {},
   "outputs": [],
   "source": []
  },
  {
   "cell_type": "code",
   "execution_count": null,
   "id": "43b8a677-fbbe-448d-8fc6-4810e019f760",
   "metadata": {},
   "outputs": [],
   "source": []
  },
  {
   "cell_type": "code",
   "execution_count": null,
   "id": "3810ee09-118a-42be-a5ca-42b9d4ebf6f1",
   "metadata": {},
   "outputs": [],
   "source": []
  }
 ],
 "metadata": {
  "kernelspec": {
   "display_name": "Python 3 (ipykernel)",
   "language": "python",
   "name": "python3"
  },
  "language_info": {
   "codemirror_mode": {
    "name": "ipython",
    "version": 3
   },
   "file_extension": ".py",
   "mimetype": "text/x-python",
   "name": "python",
   "nbconvert_exporter": "python",
   "pygments_lexer": "ipython3",
   "version": "3.7.1"
  }
 },
 "nbformat": 4,
 "nbformat_minor": 5
}
